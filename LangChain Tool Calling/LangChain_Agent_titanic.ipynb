{
 "cells": [
  {
   "cell_type": "markdown",
   "id": "a1e9e8d2",
   "metadata": {},
   "source": [
    "## LangChain Agent기반 포괄적 데이터 탐색"
   ]
  },
  {
   "cell_type": "code",
   "execution_count": 1,
   "id": "07a38fb0",
   "metadata": {},
   "outputs": [
    {
     "name": "stdout",
     "output_type": "stream",
     "text": [
      "환경 설정 시작...\n",
      "OpenAI API 키가 성공적으로 로드되었습니다.\n",
      "환경 설정이 완료되었습니다.\n"
     ]
    }
   ],
   "source": [
    "\n",
    "print(\"환경 설정 시작...\")\n",
    "\n",
    "# 환경 변수에서 API 키 가져오기\n",
    "import os\n",
    "import warnings\n",
    "from dotenv import load_dotenv\n",
    "\n",
    "# 경고 메시지 숨기기\n",
    "warnings.filterwarnings('ignore')\n",
    "\n",
    "load_dotenv()\n",
    "OPENAI_API_KEY = os.getenv(\"OPENAI_API_KEY\")\n",
    "\n",
    "if not OPENAI_API_KEY:\n",
    "    print(\"OPENAI_API_KEY가 설정되지 않았습니다. .env 파일을 확인해주세요.\")\n",
    "else:\n",
    "    print(\"OpenAI API 키가 성공적으로 로드되었습니다.\")\n",
    "\n",
    "print(\"환경 설정이 완료되었습니다.\")"
   ]
  },
  {
   "cell_type": "code",
   "execution_count": 2,
   "id": "7e81edd4",
   "metadata": {},
   "outputs": [
    {
     "name": "stdout",
     "output_type": "stream",
     "text": [
      "라이브러리 로드 중...\n",
      "라이브러리 로드가 완료되었습니다.\n"
     ]
    }
   ],
   "source": [
    "\n",
    "print(\"라이브러리 로드 중...\")\n",
    "\n",
    "import pandas as pd\n",
    "import numpy as np\n",
    "import matplotlib.pyplot as plt\n",
    "import seaborn as sns\n",
    "from sklearn.model_selection import train_test_split\n",
    "from sklearn.preprocessing import StandardScaler, LabelEncoder\n",
    "from sklearn.ensemble import RandomForestClassifier\n",
    "from sklearn.linear_model import LogisticRegression\n",
    "from sklearn.metrics import accuracy_score, classification_report, confusion_matrix\n",
    "import matplotlib.font_manager as fm\n",
    "\n",
    "# 한글 폰트 설정\n",
    "plt.rcParams['font.family'] = ['나눔고딕', 'NanumGothic', 'Malgun Gothic']\n",
    "plt.rcParams['axes.unicode_minus'] = False\n",
    "\n",
    "# Seaborn 스타일 설정\n",
    "sns.set_style(\"whitegrid\")\n",
    "sns.set_palette(\"husl\")\n",
    "\n",
    "# pandas 옵션 설정\n",
    "pd.set_option('display.max_columns', None)\n",
    "pd.set_option('display.width', None)\n",
    "pd.set_option('display.max_colwidth', 50)\n",
    "\n",
    "print(\"라이브러리 로드가 완료되었습니다.\")"
   ]
  },
  {
   "cell_type": "code",
   "execution_count": 3,
   "id": "6c669da0",
   "metadata": {},
   "outputs": [
    {
     "name": "stdout",
     "output_type": "stream",
     "text": [
      "데이터 로드 시작...\n",
      "Titanic 데이터 파일을 찾을 수 없습니다.\n",
      "현재 디렉토리에 train.csv와 test.csv 파일을 배치해주세요.\n",
      "샘플 Titanic 데이터를 생성합니다...\n",
      "샘플 데이터 생성이 완료되었습니다.\n",
      "\n",
      "=== 데이터 기본 정보 ===\n",
      "훈련 데이터: 891행 12열\n",
      "테스트 데이터: 418행 11열\n",
      "타겟 변수: Survived (생존 여부)\n"
     ]
    }
   ],
   "source": [
    "\n",
    "print(\"데이터 로드 시작...\")\n",
    "\n",
    "# 데이터 로드\n",
    "try:\n",
    "    train = pd.read_csv('./data/titanic/train.csv')\n",
    "    test = pd.read_csv('./data/titanic/test.csv')\n",
    "    \n",
    "    print(f\"훈련 데이터 로드 완료: {train.shape}\")\n",
    "    print(f\"테스트 데이터 로드 완료: {test.shape}\")\n",
    "    print(\"데이터 로드가 성공적으로 완료되었습니다.\")\n",
    "except FileNotFoundError:\n",
    "    print(\"Titanic 데이터 파일을 찾을 수 없습니다.\")\n",
    "    print(\"현재 디렉토리에 train.csv와 test.csv 파일을 배치해주세요.\")\n",
    "    \n",
    "    # 샘플 Titanic 데이터 생성\n",
    "    print(\"샘플 Titanic 데이터를 생성합니다...\")\n",
    "    np.random.seed(42)\n",
    "    n_samples = 891\n",
    "    \n",
    "    train = pd.DataFrame({\n",
    "        'PassengerId': range(1, n_samples + 1),\n",
    "        'Survived': np.random.choice([0, 1], n_samples, p=[0.62, 0.38]),\n",
    "        'Pclass': np.random.choice([1, 2, 3], n_samples, p=[0.24, 0.21, 0.55]),\n",
    "        'Name': [f'Name_{i}' for i in range(1, n_samples + 1)],\n",
    "        'Sex': np.random.choice(['male', 'female'], n_samples, p=[0.65, 0.35]),\n",
    "        'Age': np.random.normal(29.7, 14.5, n_samples),\n",
    "        'SibSp': np.random.choice([0, 1, 2, 3, 4, 5], n_samples, p=[0.68, 0.23, 0.06, 0.02, 0.01, 0.00]),\n",
    "        'Parch': np.random.choice([0, 1, 2, 3, 4, 5, 6], n_samples, p=[0.76, 0.13, 0.08, 0.02, 0.01, 0.00, 0.00]),\n",
    "        'Ticket': [f'Ticket_{i}' for i in range(1, n_samples + 1)],\n",
    "        'Fare': np.random.lognormal(3, 1, n_samples),\n",
    "        'Cabin': np.random.choice(['A1', 'B2', 'C3', None], n_samples, p=[0.1, 0.1, 0.1, 0.7]),\n",
    "        'Embarked': np.random.choice(['C', 'Q', 'S'], n_samples, p=[0.19, 0.09, 0.72])\n",
    "    })\n",
    "    # 나이 결측값 추가 (약 20%)\n",
    "    train.loc[train.sample(frac=0.2).index, 'Age'] = np.nan\n",
    "    \n",
    "    test = train.drop(['Survived'], axis=1).head(418).copy()\n",
    "    test['PassengerId'] = range(892, 892 + 418)\n",
    "    \n",
    "    print(\"샘플 데이터 생성이 완료되었습니다.\")\n",
    "\n",
    "print(\"\\n=== 데이터 기본 정보 ===\")\n",
    "print(f\"훈련 데이터: {train.shape[0]}행 {train.shape[1]}열\")\n",
    "print(f\"테스트 데이터: {test.shape[0]}행 {test.shape[1]}열\")\n",
    "print(f\"타겟 변수: {'Survived (생존 여부)' if 'Survived' in train.columns else '없음'}\")"
   ]
  },
  {
   "cell_type": "code",
   "execution_count": null,
   "id": "2b1c238e",
   "metadata": {},
   "outputs": [],
   "source": []
  }
 ],
 "metadata": {
  "kernelspec": {
   "display_name": "langchain-build-py3.12",
   "language": "python",
   "name": "python3"
  },
  "language_info": {
   "codemirror_mode": {
    "name": "ipython",
    "version": 3
   },
   "file_extension": ".py",
   "mimetype": "text/x-python",
   "name": "python",
   "nbconvert_exporter": "python",
   "pygments_lexer": "ipython3",
   "version": "3.12.7"
  }
 },
 "nbformat": 4,
 "nbformat_minor": 5
}
