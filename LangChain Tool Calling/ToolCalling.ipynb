{
 "cells": [
  {
   "cell_type": "markdown",
   "id": "7bd9c78a",
   "metadata": {},
   "source": [
    "# LangChain Tool Calling\n",
    "\n",
    "### Tool Calling 개념\n",
    "> LLM에서 외부 도구 연동 시 사용\n",
    "\n",
    "- LLM이 외부 LangChain ToolCalling 기능이나 데이터에 접근할 수 있게 해주는 메커니즘\n",
    "- LLM의 한계(최신 정보 부족, 특정 작업 수행 불가 등)를 극복하는 방법 (RAG에서도 중요)\n",
    "- LLM과 외부 도구 연동의 필요성: 실시간 데이터 접근, 특수 기능 수행, 정확성 향상 등"
   ]
  },
  {
   "cell_type": "markdown",
   "id": "bfec0e8b",
   "metadata": {},
   "source": []
  }
 ],
 "metadata": {
  "language_info": {
   "name": "python"
  }
 },
 "nbformat": 4,
 "nbformat_minor": 5
}
