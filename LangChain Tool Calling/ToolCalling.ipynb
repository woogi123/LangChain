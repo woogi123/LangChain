{
 "cells": [
  {
   "cell_type": "markdown",
   "id": "7bd9c78a",
   "metadata": {},
   "source": [
    "# LangChain Tool Calling\n",
    "\n",
    "### Tool Calling 개념\n",
    "> LLM에서 외부 도구 연동 시 사용\n",
    "\n",
    "- LLM이 외부 LangChain ToolCalling 기능이나 데이터에 접근할 수 있게 해주는 메커니즘\n",
    "- LLM의 한계(최신 정보 부족, 특정 작업 수행 불가 등)를 극복하는 방법 (RAG에서도 중요)\n",
    "- LLM과 외부 도구 연동의 필요성: 실시간 데이터 접근, 특수 기능 수행, 정확성 향상 등"
   ]
  },
  {
   "cell_type": "markdown",
   "id": "bfec0e8b",
   "metadata": {},
   "source": [
    "## Tavily\n",
    "> LLM이 최신 정보나 외부 지식을 필요로 할 때, 검색결과를 가져올 수 있도록 하는 도구\n",
    "- 웹 검색 기능을 AI 모델에 통합해주는 웹 검색 API 서비스\n",
    "### **Tavily의 주요 특징**\n",
    "\n",
    "- AI 최적화: LLM과의 원활한 통합을 위해 설계되었습니다.\n",
    "- 최신 정보: 실시간으로 업데이트되는 정보를 제공합니다.\n",
    "- 다양한 검색 모드: 일반 검색, 뉴스 검색, 이미지 검색 등 다양한 모드를 제공합니다.\n",
    "- 콘텐츠 필터링: 신뢰할 수 있는 소스의 정보만을 제공합니다.\n",
    "- 무료 사용량: 월 1,000회의 무료 API 호출을 제공합니다.\n"
   ]
  },
  {
   "cell_type": "markdown",
   "id": "79aafdc1",
   "metadata": {},
   "source": [
    "### Tavily Chain vs Tabily Tool\n",
    "Tavily chain\n",
    "- Chain은 단순 검색이 아니라, 검색 + 질문응답(QA) or 문맥 결합까지 포함된 파이프라인입니다.\n",
    "\n",
    "- 즉, Tavily를 통해 검색하고 그 결과를 LLM에게 넘겨 답변 생성까지 한 번에 처리하는 흐름입니다.\n",
    "\n",
    "- 보통 RetrievalQA 같은 구조에 사용됩니다.\n",
    "\n",
    "Tavily Tool\n",
    "- Tool은 LangChain에서 **에이전트(Agent)**가 사용할 수 있도록 만든 함수 형태의 도구입니다.\n",
    "\n",
    "- 쉽게 말해, 에이전트가 “검색이 필요하네?” 싶을 때 search.run() 같은 형태로 사용하는 모듈입니다.\n",
    "\n",
    "- 대표 클래스: TavilySearchResults"
   ]
  },
  {
   "cell_type": "markdown",
   "id": "46a419e2",
   "metadata": {},
   "source": [
    "## Fer-Shot 프롬프팅\n",
    "> 모델에게 몇 가지 예시를 제공해 원하는 출력 형식이나 작업 수행 방식을 보여줌\n",
    "\n",
    "- 모델에게 도구를 어떻게 사용해야 하는지 예시를 통해 보여줌"
   ]
  },
  {
   "cell_type": "markdown",
   "id": "73595c38",
   "metadata": {},
   "source": [
    "## LangChain Agent\n",
    "> LLM을 추론 엔진으로 사용하여 어떤 행동을 할지, 그 행동의 입력은 무엇일지 결정하는 시스템\n",
    "\n",
    "> 행동 결과를 다시 Agent에 피드백하여 추가 행동을 할지 작업을 완료할지 결정"
   ]
  },
  {
   "cell_type": "markdown",
   "id": "206405c2",
   "metadata": {},
   "source": []
  }
 ],
 "metadata": {
  "language_info": {
   "name": "python"
  }
 },
 "nbformat": 4,
 "nbformat_minor": 5
}
