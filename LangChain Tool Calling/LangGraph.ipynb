{
 "cells": [
  {
   "cell_type": "markdown",
   "id": "17805cd2",
   "metadata": {},
   "source": [
    "# LangGraph\n",
    "### StateGraph\n",
    "> 복잡한 작업 흐름을 상태와 전이로 모델링해 유연하고 제어가능한 시스템 구축\n",
    "\n",
    "**State (상태)**: 애플리케이션의 현재 스냅샷을 나타내는 공유 데이터 구조\n",
    "- 특징: 주로 TypedDict나 Pydantic BaseModel을 사용- 시스템의 전체 컨텍스트를 포함\n",
    "\n",
    "**Node (노드)**: Agent의 로직을 인코딩하는 Python 함수\n",
    "- 특징    \n",
    "    - 현재 State를 입력으로 받고,\n",
    "    \n",
    "    - 계산이나 부작용(side-effect)을 수행한 다음,\n",
    "    \n",
    "    - 업데이트 된 State를 반환\n",
    "\n",
    "**Edge (엣지)** : 현재 State를 기반으로 다음에 실행할 Node를 결정하는 함수\n",
    "- 특징\n",
    "    - 조건부 분기 or 고정 전이\n",
    "    - 시스템의 흐름을 제어\n",
    "\n",
    "\n",
    "## 기능 (함수)\n",
    "1. Branching: 현재 상태나 입력에 따라 다음 노드를 동적으로 결정\n",
    "\n",
    "2. Reducer: 상태 업데이트를 관리하는 함수, 그래프의 각 노드의 출력을 그래프의 전체 상태에 통합하는 방법을 정의함.\n",
    "    - Reducer X : 기존에 있던 키의 값을 덮어쓰는 방식으로 동작 (override)\n",
    "    - Reducer O : 기존에 있던 값에 add를 통해 추가\n",
    "    - Custom Reducer 가능\n",
    "\n",
    "3. MessageGraph: 대화 기록을 효과적으로 관리하고 활용\n",
    "\n",
    "4. ReAct (Resoning + Acting): 추론과 행동의 반복으로 복잡한 단계 해결\n",
    "\n",
    "5. MemorySaver: 대화를 연속적이게 할 수 있게 해주는 것\n",
    "\n",
    "6. Adaptive RAG: 질문의 복잡성에 따라 가장 적합한 검색 및 생성 전략을 동적으로 선택\n"
   ]
  },
  {
   "cell_type": "markdown",
   "id": "ea50f292",
   "metadata": {},
   "source": [
    "### MessageGraph\n",
    "\n"
   ]
  },
  {
   "cell_type": "markdown",
   "id": "efe1ca27",
   "metadata": {},
   "source": []
  }
 ],
 "metadata": {
  "language_info": {
   "name": "python"
  }
 },
 "nbformat": 4,
 "nbformat_minor": 5
}
