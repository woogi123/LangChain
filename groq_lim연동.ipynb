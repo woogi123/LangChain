{
 "cells": [
  {
   "cell_type": "code",
   "execution_count": 1,
   "id": "96903ecd",
   "metadata": {},
   "outputs": [
    {
     "name": "stdout",
     "output_type": "stream",
     "text": [
      "Hello\n"
     ]
    }
   ],
   "source": [
    "print(\"Hello\")"
   ]
  },
  {
   "cell_type": "code",
   "execution_count": 13,
   "id": "e2b84546",
   "metadata": {},
   "outputs": [],
   "source": [
    "import os\n",
    "from dotenv import load_dotenv\n",
    "from langchain_core.prompts import ChatPromptTemplate\n",
    "from langchain_openai import ChatOpenAI\n",
    "\n",
    "load_dotenv()\n",
    "OPENAI_API_KEY = os.getenv(\"OPENAI_API_KEY\")"
   ]
  },
  {
   "cell_type": "markdown",
   "id": "758f1b28",
   "metadata": {},
   "source": [
    "프롬프트를 통해 질문 input"
   ]
  },
  {
   "cell_type": "code",
   "execution_count": 16,
   "id": "a6a2090b",
   "metadata": {},
   "outputs": [
    {
     "name": "stdout",
     "output_type": "stream",
     "text": [
      "input_variables=['input'] input_types={} partial_variables={} messages=[SystemMessagePromptTemplate(prompt=PromptTemplate(input_variables=[], input_types={}, partial_variables={}, template='당신은 개발자입니다.'), additional_kwargs={}), HumanMessagePromptTemplate(prompt=PromptTemplate(input_variables=['input'], input_types={}, partial_variables={}, template='{input}'), additional_kwargs={})]\n"
     ]
    }
   ],
   "source": [
    "# prompt\n",
    "prompt = ChatPromptTemplate.from_messages(\n",
    "    [ (\"system\", \"당신은 개발자입니다.\") , \n",
    "     (\"user\", \"{input}\") ]\n",
    ")\n",
    "print(prompt)\n",
    "\n",
    "prompt_text = prompt.format(input=\"자바는 무엇인가요? 자세하게 설명해주세요\")"
   ]
  },
  {
   "cell_type": "markdown",
   "id": "fe4fc2a0",
   "metadata": {},
   "source": [
    "결과 받아오기"
   ]
  },
  {
   "cell_type": "code",
   "execution_count": 17,
   "id": "9435812a",
   "metadata": {},
   "outputs": [
    {
     "name": "stdout",
     "output_type": "stream",
     "text": [
      "client=<openai.resources.chat.completions.completions.Completions object at 0x0000028CCF426810> async_client=<openai.resources.chat.completions.completions.AsyncCompletions object at 0x0000028CCF4260C0> root_client=<openai.OpenAI object at 0x0000028CCF403EC0> root_async_client=<openai.AsyncOpenAI object at 0x0000028CCF426870> model_name='meta-llama/llama-4-scout-17b-16e-instruct' temperature=0.7 model_kwargs={} openai_api_key=SecretStr('**********') openai_api_base='https://api.groq.com/openai/v1'\n"
     ]
    }
   ],
   "source": [
    "# Groq API를 사용하는 ChatOpenAI 인스턴스 생성\n",
    "llm = ChatOpenAI(\n",
    "    api_key=OPENAI_API_KEY,\n",
    "    base_url=\"https://api.groq.com/openai/v1\",  # Groq API 엔드포인트\n",
    "    model=\"meta-llama/llama-4-scout-17b-16e-instruct\",\n",
    "    temperature=0.7\n",
    ")\n",
    "print(llm)"
   ]
  },
  {
   "cell_type": "markdown",
   "id": "1e82e3b3",
   "metadata": {},
   "source": [
    "여기서 답을 출력"
   ]
  },
  {
   "cell_type": "code",
   "execution_count": 18,
   "id": "0303c807",
   "metadata": {},
   "outputs": [
    {
     "name": "stdout",
     "output_type": "stream",
     "text": [
      "응답: 자바는 객체 지향 프로그래밍 언어입니다. 자바는 썬 마이크로시스템즈(현재는 오라클 소유)에서 개발되었으며, 1995년에 처음 릴리즈되었습니다. 자바는 플랫폼 독립적이며, 다양한 운영 체제에서 실행될 수 있습니다.\n",
      "\n",
      "자바의 주요 특징은 다음과 같습니다.\n",
      "\n",
      "1. **객체 지향 프로그래밍**: 자바는 객체 지향 프로그래밍(OOP) 개념을 지원합니다. OOP는 프로그램을 객체로 구성하고, 객체 간의 상호 작용을 통해 프로그램을 작성하는 방식입니다.\n",
      "2. **플랫폼 독립성**: 자바는 자바 가상 머신(JVM)이 설치된 모든 플랫폼에서 실행될 수 있습니다. JVM은 자바 코드를 실행하는 가상 머신으로, 운영 체제와 하드웨어에 종속되지 않습니다.\n",
      "3. **강력한 보안**: 자바는 강력한 보안 기능을 제공합니다. 자바는 메모리 관리, 데이터 유형 검사, 보안 정책 등을 통해 보안 위협을 방지합니다.\n",
      "4. **다중 스레딩**: 자바는 다중 스레딩을 지원합니다. 다중 스레딩을 통해 여러 작업을 동시에 실행할 수 있습니다.\n",
      "5. **대규모 라이브러리**: 자바는 대규모 라이브러리를 제공합니다. 라이브러리에는 다양한 기능이 포함되어 있으며, 개발자가 쉽게 사용할 수 있습니다.\n",
      "\n",
      "자바는 다양한 분야에서 사용됩니다. 예를 들어, 안드로이드 앱 개발, 웹 개발, 데스크톱 애플리케이션 개발, 기업 소프트웨어 개발 등에 사용됩니다.\n",
      "\n",
      "자바의 주요 구성 요소는 다음과 같습니다.\n",
      "\n",
      "1. **자바 언어**: 자바 언어는 프로그래밍 언어입니다. 자바 언어는 객체 지향 프로그래밍 개념을 지원하며, 플랫폼 독립적입니다.\n",
      "2. **자바 가상 머신(JVM)**: JVM은 자바 코드를 실행하는 가상 머신입니다. JVM은 운영 체제와 하드웨어에 종속되지 않습니다.\n",
      "3. **자바 런타임 환경(JRE)**: JRE는 자바 애플리케이션을 실행하는 환경입니다. JRE에는 JVM, 라이브러리, 유틸리티 등이 포함되어 있습니다.\n",
      "\n",
      "자바의 버전은 크게 두 가지로 나눌 수 있습니다.\n",
      "\n",
      "1. **자바 SE(Standard Edition)**: 자바 SE는 표준 라이브러리와 API를 제공합니다. 자바 SE는 데스크톱 애플리케이션, 웹 애플리케이션 등에 사용됩니다.\n",
      "2. **자바 EE(Enterprise Edition)**: 자바 EE는 자바 SE에 추가로 기업용 기능을 제공합니다. 자바 EE는 대규모 기업 애플리케이션, 웹 애플리케이션 등에 사용됩니다.\n",
      "\n",
      "자바는 널리 사용되는 프로그래밍 언어이며, 많은 개발자가 사용합니다. 자바는 지속적으로 업데이트되며, 새로운 기능이 추가되고 있습니다.\n"
     ]
    }
   ],
   "source": [
    "try:\n",
    "    response = llm.invoke(prompt_text)\n",
    "    print(\"응답:\", response.content)\n",
    "except Exception as e:\n",
    "    print(f\"오류 발생: {e}\")"
   ]
  },
  {
   "cell_type": "code",
   "execution_count": null,
   "id": "74c87d9a",
   "metadata": {},
   "outputs": [],
   "source": []
  },
  {
   "cell_type": "code",
   "execution_count": null,
   "id": "926a7b14",
   "metadata": {},
   "outputs": [],
   "source": []
  }
 ],
 "metadata": {
  "kernelspec": {
   "display_name": "langchain-build-py3.12",
   "language": "python",
   "name": "python3"
  },
  "language_info": {
   "codemirror_mode": {
    "name": "ipython",
    "version": 3
   },
   "file_extension": ".py",
   "mimetype": "text/x-python",
   "name": "python",
   "nbconvert_exporter": "python",
   "pygments_lexer": "ipython3",
   "version": "3.12.7"
  }
 },
 "nbformat": 4,
 "nbformat_minor": 5
}
