{
 "cells": [
  {
   "cell_type": "markdown",
   "id": "a2494a2a",
   "metadata": {},
   "source": [
    "### 사용 툴\n",
    "- python: LangChain, LamaIndex\n",
    "- spring: Spring AI"
   ]
  },
  {
   "cell_type": "markdown",
   "id": "2d1ff5af",
   "metadata": {},
   "source": [
    "\n",
    "### AI 선택가이드\n",
    "- **창의적 글쓰기**: Claude 4 > GPT-4o\n",
    "- **코딩 지원**: GPT-4o > Claude 4 > Llama 3.1\n",
    "- **실시간 정보**: Gemini Ultra > GPT-4o\n",
    "- **비용 효율성**: Llama 3.1 > Claude Sonnet > GPT-4o\n"
   ]
  },
  {
   "cell_type": "markdown",
   "id": "e77a8589",
   "metadata": {},
   "source": [
    "### LangChain 간략 설명\n"
   ]
  },
  {
   "cell_type": "markdown",
   "id": "fc2fe62b",
   "metadata": {},
   "source": [
    "##### 1. Lang Graph\n",
    "> 복잡한 흐름이 필요한 경우에 사용합니다.\n",
    "- LangGraph는 멀티 Actor 애플리케이션을 그래프 형태로 구축할 수 있게 해주는 LangChain의 고급 라이브러리입니다. 복잡한 AI 워크플로우를 노드(Actor)와 엣지(연결)로 구성된 그래프로 모델링하여, 유연하고 확장 가능한 AI 시스템을 만들 수 있습니다.\n",
    "    - **그래프(Graph) 기반 아키텍처를 도입하여 비선형적인 복잡한 흐름을 유연하게 구성할 수 있도록 지원**\n",
    "    - **멀티에이전트 시스템을 쉽게 설계 가능**\n",
    "    - **비동기 실행 지원으로 성능 최적화 가능**"
   ]
  },
  {
   "cell_type": "markdown",
   "id": "260e7840",
   "metadata": {},
   "source": [
    "##### 2. LangServe\n",
    "> LangServe는 LangChain 기반 애플리케이션을 쉽게 배포(serve)할 수 있도록 설계된 라이브러리\n",
    "- **LangChain 체인을 자동으로 REST API로 변환**\n",
    "    - LangChain 체인을 간단한 코드만으로 API로 변환할 수 있습니다.\n",
    "    - API Endpoint를 자동 생성하여, 별도의 서버 설정 없이 바로 사용 가능.\n",
    "- **FastAPI 기반의 경량화된 API 서버 제공**\n",
    "    - FastAPI를 활용하여 비동기 요청 처리 및 빠른 응답 속도를 제공.\n",
    "    - OpenAPI 문서(Swagger UI)도 자동으로 생성.\n",
    "- **LangChain의 다양한 구성 요소와 연동**\n",
    "    - LLM, Memory, Retriever, Agents, Tools 등을 포함한 LangChain 컴포넌트 지원.\n",
    "    - 기존 LangChain 체인을 쉽게 API 서비스로 변환 가능.\n",
    "- **확장 및 배포 용이**\n",
    "    - **Docker** 컨테이너화하여 배포 가능.\n",
    "    - 서버리스 환경 (AWS Lambda, GCP Cloud Run 등)에도 쉽게 배포 가능.\n",
    "    - Kubernetes 같은 환경에서도 스케일링이 용이함."
   ]
  },
  {
   "cell_type": "markdown",
   "id": "1c06c744",
   "metadata": {},
   "source": [
    "##### 3. Lang Smith\n",
    "> (성능 추적)LangSmith는 LangChain 애플리케이션을 디버깅, 모니터링, 평가, 최적화하는 도구입니다.\n",
    " LangSmith 가 제공하는 기능\n",
    "\n",
    "- **디버깅 도구**\n",
    "    - LangChain 체인의 실행을 시각적으로 확인 가능\n",
    "    - 각 프롬프트 입력과 출력을 분석하여 문제 발생 지점 찾기\n",
    "- **로깅 및 모니터링**\n",
    "    - 체인의 실행 로그를 저장하여 나중에 분석 가능\n",
    "    - 응답 시간, 호출 비용, 오류 비율을 추적\n",
    "- **성능 평가 및 벤치마킹**\n",
    "    - 서로 다른 프롬프트, 모델, 체인을 비교 평가\n",
    "    - 다양한 실험 결과를 저장하고 분석 가능\n",
    "- **테스트 자동화 및 평가 메트릭 제공**\n",
    "    - LLM 응답을 자동으로 평가하는 기능\n",
    "    - A/B 테스트를 수행하여 최적의 설정 찾기\n",
    "- **LangChain과 완벽한 통합**\n",
    "    - LangChain 체인의 실행 과정에서 LangSmith를 쉽게 연동 가능\n",
    "    - 추가 코드 변경 없이 LangChain 애플리케이션에 LangSmith 기능 적용 가능"
   ]
  },
  {
   "cell_type": "markdown",
   "id": "31873efa",
   "metadata": {},
   "source": [
    "#### LangChain Expression Language (LCEL)\n",
    "> Rnnable이 지원\n",
    "- Prompt - LLM - outputParser을 연결하는 것을 의미\n",
    "\n",
    "1. **프롬프트 생성**\n",
    "    1. 사용자의 요구 사항이나 특정 작업을 정의하는 Prompt를 생성합니다. \n",
    "    2. 이 Prompt는 LLM에게 전달하기 전에, 작업의 목적과 맥락을 명확히 전달하기 위해 최적화 될 수 있습니다.\n",
    "2. **LLM 모델** \n",
    "    1. LLM은 제공된 Prompt를 분석하고, 학습된 지식을 바탕으로 적절한 응답을 생성합니다. \n",
    "    2. 이 과정에서 LLM은 내부적으로 다양한 언어 패턴과 내 외부 지식을 활용하여, 요청된 작업을 수행하거나 정보를 제공합니다.\n",
    "3. **출력 파서 (Output Parser)**\n",
    "    1. LLM에 의해 생성된 응답은 최종 사용자에게 필요한 형태로 변환되어 제공됩니다. \n",
    "    2. 이 응답은 직접적인 답변, 생성된 텍스트, 요약된 정보 등 다양한 형태를 취할 수 있습니다."
   ]
  },
  {
   "cell_type": "markdown",
   "id": "64aa8ca5",
   "metadata": {},
   "source": [
    "#### Runnable 프로토콜\n",
    "> PromptTemplate + LLM(stream()) + StrOutputParser\n",
    "1. invoke : 주어진 입력에 대해 체인을 호출하고, 결과를 반환합니다. 이 메소드는 단일 입력에 대해 동기적으로 작동합니다.\n",
    "2. batch : 입력 리스트에 대해 체인을 호출하고, 각 입력에 대한 결과를 리스트로 반환합니다. 이 메소드는 여러 입력에 대해 동기적으로 작동하며, 효율적인 배치 처리를 가능하게 합니다.\n",
    "3. stream : 입력에 대해 체인을 호출하고, 결과의 조각들을 스트리밍 합니다. 이는 대용량 데이터 처리나 실시간 데이터 처리에 유용합니다.\n",
    "4. 비동기 버전 : `ainvoke`, `abatch`, `astream` 등의 메소드는 각각의 동기 버전에 대한 비동기 실행을 지원합니다. 이를 통해 비동기 프로그래밍 패러다임을 사용하여 더 높은 처리 성능과 효율을 달성할 수 있습니다.\n",
    "\n",
    "- **stream: 실시간 출력**\n",
    "    \n",
    "    `chain.stream`() 메서드를 사용하여 주어진 토픽에 대한 데이터 스트림을 생성하고, 이 스트림을 반복하여 각 데이터의 내용(`content`)을 즉시 출력합니다."
   ]
  },
  {
   "cell_type": "markdown",
   "id": "cda247de",
   "metadata": {},
   "source": [
    "### Multi Chain\n",
    "- Multi Chain은 각기 다른 목적을 가진 여러 체인을 조합하여, 입력 데이터를 다양한 방식으로 처리하고 최종적인 결과를 도출할 수 있도록 합니다.\n",
    "- Multi Chain이 활용되는 경우\n",
    "    1. 연속적인 질의응답을 통해 더 깊이 있는 정보 제공 가능\n",
    "    2. 다양한 데이터를 연결하여 자동화된 정보 흐름 구축 가능\n",
    "    3. 검색, 번역, 추천 시스템 등에 활용 가능"
   ]
  },
  {
   "cell_type": "markdown",
   "id": "e81b1740",
   "metadata": {},
   "source": [
    "### PromptTemplates\n",
    "1. **역할(Role) 기반 메시지 설정**\n",
    "    - 시스템(`system`): AI의 동작 방식이나 태도를 정의\n",
    "    - 사용자(`human`): 사용자의 질문 또는 요청\n",
    "    - AI(`ai`): 이전 대화 맥락을 제공하기 위한 예제 응답 (실제 모델의 답변과는 무관함)\n",
    "2. **프롬프트를 동적으로 생성**\n",
    "    - `{변수}` 형식을 사용하여 실행 시 동적으로 값을 주입 가능\n",
    "    - `format_messages()`를 통해 메시지를 생성\n",
    "3. **대화형 체인과 결합하여 LLM과 함께 사용**\n",
    "    - `ChatOpenAI` 등과 함께 사용하여 대화 기반 응답을 생성\n",
    "    - 다양한 응용 (멀티턴 대화, 역할 기반 응답, 맥락 유지 등)\n",
    "\n",
    "> 외에도 ChatPromptTemplate, FewShotPromptTemplate 등이 있음\n",
    "\n",
    "- **`ChatMessagePromptTemplate`을 사용하면 좋은 경우**\n",
    "    - 프롬프트가 복잡하여 **역할별로 개별적인 메시지 관리가 필요한 경우**\n",
    "    - 여러 개의 프롬프트를 **재사용 하거나 테스트할 때**\n",
    "    - 특정 역할(System, Human, AI)에 대해 **동적 변수를 삽입해야 할 때**\n",
    "- **`ChatPromptTemplate`만 사용해도 충분한 경우**\n",
    "    - 단순한 대화 흐름을 구성할 때\n",
    "    - 빠르게 간단한 프롬프트를 작성할 때\n",
    "    - 객체 지향적 관리가 필요 없고 **문자열 리스트로도 충분한 경우**"
   ]
  },
  {
   "cell_type": "markdown",
   "id": "ef3592a7",
   "metadata": {},
   "source": [
    "### FewShotTPromptTemplate\n",
    "> Few-shot 학습은 언어 모델에 몇 가지 예시를 제공해서 특정 작업 수행을 유도함\n",
    "\n",
    "- **Zero-shot prompting**(예제 없이 질문만 제공)으로는 원하는 결과를 얻기 어려울 때 효과적입니다.\n",
    "- 모델이 답변의 **형식, 문체, 구조**를 학습하도록 예제를 제공하는 방식입니다.\n",
    "- 예제 데이터를 기반으로 AI가 유사한 답변을 생성하도록 유도할 때 사용됩니다.\n",
    "- `FewShotPromptTemplate` 은 **과학/기술 관련 응답 형식을 학습하는 데 적합함**"
   ]
  },
  {
   "cell_type": "markdown",
   "id": "26955678",
   "metadata": {},
   "source": [
    "### Partial Prompt\n",
    "Partial Prompt는 **프롬프트 내에서 일부 변수를 고정하거나 동적으로 설정할 수 있도록 도와주는 기능**입니다. \n",
    "\n",
    "- Partial Prompt는 재사용성과 유지보수성을 높이며, 실시간 정보를 반영할 수 있는 강력한 기능\n",
    "- 프롬프트를 더 동적으로 활용할 수 있으며, AI 응답을 더 일관성 있게 조정 가능함\n",
    "- 특히 API 데이터, 시간 정보, 사용자 정보 등을 반영할 때 매우 유용함"
   ]
  },
  {
   "cell_type": "markdown",
   "id": "2c3c4391",
   "metadata": {},
   "source": [
    "# OutputParser 시작"
   ]
  },
  {
   "cell_type": "markdown",
   "id": "71c0e04e",
   "metadata": {},
   "source": [
    "### CommaSeparatedListOutputParser\n",
    "> CSV 저장이나 API응답 포멧에 적합한 형태로 처리\n",
    "- **CommaSeparatedListOutputParser**는 **쉼표로 구분된 목록을 반환할 때 유용한 출력 파서** 입니다.\n",
    "\n",
    "이를 활용하면 **텍스트 데이터를 구조화된 리스트 형태로 쉽게 변환**할 수 있습니다."
   ]
  },
  {
   "cell_type": "markdown",
   "id": "e4f1aa0b",
   "metadata": {},
   "source": [
    "### JsonOutputParser\n",
    "\n",
    "> `JsonOutputParser`는 LLM의 응답을 **JSON 형식으로 정리**하는 데 유용한 출력 파서 입니다.\n",
    "\n",
    "- **정형화된 JSON 출력 제공**\n",
    "    - LLM의 출력을 JSON 형태로 강제하여, **일관된 데이터 형식 유지**\n",
    "    - API 응답, 데이터 저장, 데이터 처리 자동화 등에 활용\n",
    "- **데이터 분석 및 활용 용이**\n",
    "    - JSON 형태이므로 프로그램에서 쉽게 **파싱(Parsing)** 가능\n",
    "    - 다른 시스템과 연동할 때 **구조화된 데이터 활용 가능**\n",
    "- **스키마 강제 적용 가능**\n",
    "    - 특정 필드를 필수적으로 포함하도록 설정 가능\n",
    "    - **예측 가능한 데이터 구조 생성**"
   ]
  },
  {
   "cell_type": "markdown",
   "id": "93a627ec",
   "metadata": {},
   "source": [
    "### PandasDataFrameOutputParser\n",
    "> Pandas DataFrame과 LLM을 연동하여 데이터를 쉽게 조회하고 분석할 수 있도록 돕는 출력 파서\n",
    "- **구조화된 데이터에 대한 자연어 질의**를 수행하고, 결과를 Pandas DataFrame 형식으로 반환할 수 있습니다.\n",
    "\n",
    "- **자연어 기반 데이터 탐색**\n",
    "    - SQL 없이도 **자연어로 데이터 조회 가능**\n",
    "    - 데이터 분석 초보자도 쉽게 활용 가능\n",
    "- **Pandas DataFrame과의 직접적인 연동**\n",
    "    - LLM을 이용해 데이터프레임에서 필요한 정보만 **효율적으로 추출**\n",
    "    - 기존 Pandas 기능과 **유연하게 결합 가능**\n",
    "- **데이터 가공 및 분석 효율화**\n",
    "    - 반환된 DataFrame을 바로 **분석, 시각화, 모델링 등에 활용 가능**"
   ]
  },
  {
   "cell_type": "markdown",
   "id": "7e209087",
   "metadata": {},
   "source": [
    "### PydanticOutputParser\n",
    "\n",
    "**강력하고 유연한 OutputParser**로, Pydantic 모델을 사용하여 복잡한 구조화된 데이터를 파싱합니다.\n",
    "\n",
    "**주요 특징:**\n",
    "\n",
    "- **타입 검증 자동화**: 각 필드의 데이터 타입을 자동으로 검증\n",
    "- **중첩된 객체 구조 지원**: 복잡한 계층 구조의 데이터 처리 가능\n",
    "- **자동 스키마 생성**: Pydantic 모델에서 자동으로 JSON 스키마 생성\n",
    "- **에러 처리 내장**: 잘못된 형식에 대한 상세한 에러 메시지 제공\n",
    "\n",
    "**활용 사례:**\n",
    "\n",
    "- API 응답 구조화\n",
    "- 복잡한 설문조사 결과 파싱\n",
    "- 제품 정보, 사용자 프로필 등 다중 필드 데이터 처리\n",
    "- 데이터베이스 스키마와 연동되는 구조화된 정보 추출"
   ]
  },
  {
   "cell_type": "markdown",
   "id": "a2a803c2",
   "metadata": {},
   "source": [
    "### StructuredOutputParser\n",
    "> 결과를 미리 구조화해서 이런식으로 출력받고싶다. 를 설정해놓고 사용하는 것\n",
    "\n",
    "**간단한 구조화된 출력**을 위한 파서로, 스키마를 딕셔너리 형태로 정의합니다.\n",
    "\n",
    "**주요 특징:**\n",
    "\n",
    "- **간단한 설정**: ResponseSchema로 쉽게 구조 정의\n",
    "- **딕셔너리 기반 스키마**: 복잡한 클래스 정의 없이 간단히 사용\n",
    "- **빠른 프로토타이핑**: 초기 개발 단계에서 빠르게 테스트 가능\n",
    "- **유연한 필드 정의**: 설명과 함께 필드 정의\n",
    "\n",
    "**활용 사례:**\n",
    "\n",
    "- 제품 리뷰 분석 (평점, 장점, 단점 등)\n",
    "- 간단한 설문 응답 구조화\n",
    "- 빠른 프로토타입 개발\n",
    "- 단순한 정보 추출 작업"
   ]
  },
  {
   "cell_type": "markdown",
   "id": "41c2cb0f",
   "metadata": {},
   "source": [
    "### DatetimeOutputParser\n",
    "> 날짜와 시간 정보를 파싱하는 전용 파서입니다.\n",
    "\n",
    "**주요 특징:**\n",
    "\n",
    "- **다양한 날짜 형식 지원**: 여러 언어와 형식의 날짜 인식\n",
    "- **자동 형식 감지**: 입력 형식을 자동으로 판단\n",
    "- **datetime 객체 변환**: Python datetime 객체로 직접 변환\n",
    "- **시간대 처리**: 타임존 정보 포함 처리 가능\n",
    "\n",
    "**활용 사례:**\n",
    "\n",
    "- 이벤트 일정 추출\n",
    "- 문서에서 날짜 정보 파싱\n",
    "- 로그 파일 시간 분석\n",
    "- 일정 관리 시스템"
   ]
  },
  {
   "cell_type": "markdown",
   "id": "c93dd945",
   "metadata": {},
   "source": [
    "### EnumOutputParser\n",
    "> 카테로리 분류 등에서 유용\n",
    "- **미리 정의된 선택지 중에서만 답변**을 받고 싶을 때 사용하는 파서입니다.\n",
    "\n",
    "**주요 특징:**\n",
    "\n",
    "- **제한된 선택지 강제**: 정의된 옵션 외의 답변 방지\n",
    "- **분류 작업에 최적**: 카테고리 분류에 특화\n",
    "- **일관된 응답 보장**: 항상 예측 가능한 결과\n",
    "- **다국어 지원**: Enum 값에 한국어 등 다양한 언어 사용 가능\n",
    "\n",
    "**활용 사례:**\n",
    "\n",
    "- 감정 분석 (긍정/부정/중립)\n",
    "- 우선순위 분류 (높음/보통/낮음)\n",
    "- 카테고리 분류\n",
    "- 품질 등급 평가"
   ]
  },
  {
   "cell_type": "markdown",
   "id": "be5e8ea9",
   "metadata": {},
   "source": [
    "### BooleanOutputParser\n",
    "> 네/아니오로 분류해주는 Parser (승인/거부 사용 시 용이)\n",
    "- **Yes/No, True/False 형태의 이진 응답**을 처리하는 파서입니다.\n",
    "\n",
    "**주요 특징:**\n",
    "\n",
    "- **이진 분류에 최적**: 단순한 예/아니오 판단\n",
    "- **다양한 표현 인식**: \"네\", \"Yes\", \"True\" 등 다양한 형태 인식\n",
    "- **Boolean 타입 반환**: Python boolean 값으로 직접 반환\n",
    "- **간단하고 확실**: 가장 단순하면서도 명확한 결과\n",
    "\n",
    "**활용 사례:**\n",
    "\n",
    "- 스팸 메일 판별\n",
    "- 사실 확인 (Fact Check)\n",
    "- 승인/거부 결정\n",
    "- 조건 만족 여부 확인"
   ]
  },
  {
   "cell_type": "markdown",
   "id": "9a0724ab",
   "metadata": {},
   "source": []
  }
 ],
 "metadata": {
  "language_info": {
   "name": "python"
  }
 },
 "nbformat": 4,
 "nbformat_minor": 5
}
