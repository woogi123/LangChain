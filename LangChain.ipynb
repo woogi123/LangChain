{
 "cells": [
  {
   "cell_type": "markdown",
   "id": "a2494a2a",
   "metadata": {},
   "source": [
    "### 사용 툴\n",
    "- python: LangChain, LamaIndex\n",
    "- spring: Spring AI"
   ]
  },
  {
   "cell_type": "markdown",
   "id": "2d1ff5af",
   "metadata": {},
   "source": [
    "\n",
    "### AI 선택가이드\n",
    "- **창의적 글쓰기**: Claude 4 > GPT-4o\n",
    "- **코딩 지원**: GPT-4o > Claude 4 > Llama 3.1\n",
    "- **실시간 정보**: Gemini Ultra > GPT-4o\n",
    "- **비용 효율성**: Llama 3.1 > Claude Sonnet > GPT-4o\n"
   ]
  },
  {
   "cell_type": "markdown",
   "id": "e77a8589",
   "metadata": {},
   "source": [
    "### LangChain 간략 설명\n"
   ]
  },
  {
   "cell_type": "markdown",
   "id": "fc2fe62b",
   "metadata": {},
   "source": [
    "##### 1. Lang Graph\n",
    "> 복잡한 흐름이 필요한 경우에 사용합니다.\n",
    "- LangGraph는 멀티 Actor 애플리케이션을 그래프 형태로 구축할 수 있게 해주는 LangChain의 고급 라이브러리입니다. 복잡한 AI 워크플로우를 노드(Actor)와 엣지(연결)로 구성된 그래프로 모델링하여, 유연하고 확장 가능한 AI 시스템을 만들 수 있습니다.\n",
    "    - **그래프(Graph) 기반 아키텍처를 도입하여 비선형적인 복잡한 흐름을 유연하게 구성할 수 있도록 지원**\n",
    "    - **멀티에이전트 시스템을 쉽게 설계 가능**\n",
    "    - **비동기 실행 지원으로 성능 최적화 가능**"
   ]
  },
  {
   "cell_type": "markdown",
   "id": "260e7840",
   "metadata": {},
   "source": [
    "##### 2. LangServe\n",
    "> LangServe는 LangChain 기반 애플리케이션을 쉽게 배포(serve)할 수 있도록 설계된 라이브러리\n",
    "- **LangChain 체인을 자동으로 REST API로 변환**\n",
    "    - LangChain 체인을 간단한 코드만으로 API로 변환할 수 있습니다.\n",
    "    - API Endpoint를 자동 생성하여, 별도의 서버 설정 없이 바로 사용 가능.\n",
    "- **FastAPI 기반의 경량화된 API 서버 제공**\n",
    "    - FastAPI를 활용하여 비동기 요청 처리 및 빠른 응답 속도를 제공.\n",
    "    - OpenAPI 문서(Swagger UI)도 자동으로 생성.\n",
    "- **LangChain의 다양한 구성 요소와 연동**\n",
    "    - LLM, Memory, Retriever, Agents, Tools 등을 포함한 LangChain 컴포넌트 지원.\n",
    "    - 기존 LangChain 체인을 쉽게 API 서비스로 변환 가능.\n",
    "- **확장 및 배포 용이**\n",
    "    - **Docker** 컨테이너화하여 배포 가능.\n",
    "    - 서버리스 환경 (AWS Lambda, GCP Cloud Run 등)에도 쉽게 배포 가능.\n",
    "    - Kubernetes 같은 환경에서도 스케일링이 용이함."
   ]
  },
  {
   "cell_type": "markdown",
   "id": "1c06c744",
   "metadata": {},
   "source": [
    "##### 3. Lang Smith\n",
    "> (성능 추적)LangSmith는 LangChain 애플리케이션을 디버깅, 모니터링, 평가, 최적화하는 도구입니다.\n",
    " LangSmith 가 제공하는 기능\n",
    "\n",
    "- **디버깅 도구**\n",
    "    - LangChain 체인의 실행을 시각적으로 확인 가능\n",
    "    - 각 프롬프트 입력과 출력을 분석하여 문제 발생 지점 찾기\n",
    "- **로깅 및 모니터링**\n",
    "    - 체인의 실행 로그를 저장하여 나중에 분석 가능\n",
    "    - 응답 시간, 호출 비용, 오류 비율을 추적\n",
    "- **성능 평가 및 벤치마킹**\n",
    "    - 서로 다른 프롬프트, 모델, 체인을 비교 평가\n",
    "    - 다양한 실험 결과를 저장하고 분석 가능\n",
    "- **테스트 자동화 및 평가 메트릭 제공**\n",
    "    - LLM 응답을 자동으로 평가하는 기능\n",
    "    - A/B 테스트를 수행하여 최적의 설정 찾기\n",
    "- **LangChain과 완벽한 통합**\n",
    "    - LangChain 체인의 실행 과정에서 LangSmith를 쉽게 연동 가능\n",
    "    - 추가 코드 변경 없이 LangChain 애플리케이션에 LangSmith 기능 적용 가능"
   ]
  },
  {
   "cell_type": "markdown",
   "id": "31873efa",
   "metadata": {},
   "source": [
    "#### LangChain Expression Language (LCEL)\n",
    "> Rnnable이 지원\n",
    "- Prompt - LLM - outputParser을 연결하는 것을 의미\n",
    "\n",
    "1. **프롬프트 생성**\n",
    "    1. 사용자의 요구 사항이나 특정 작업을 정의하는 Prompt를 생성합니다. \n",
    "    2. 이 Prompt는 LLM에게 전달하기 전에, 작업의 목적과 맥락을 명확히 전달하기 위해 최적화 될 수 있습니다.\n",
    "2. **LLM 모델** \n",
    "    1. LLM은 제공된 Prompt를 분석하고, 학습된 지식을 바탕으로 적절한 응답을 생성합니다. \n",
    "    2. 이 과정에서 LLM은 내부적으로 다양한 언어 패턴과 내 외부 지식을 활용하여, 요청된 작업을 수행하거나 정보를 제공합니다.\n",
    "3. **출력 파서 (Output Parser)**\n",
    "    1. LLM에 의해 생성된 응답은 최종 사용자에게 필요한 형태로 변환되어 제공됩니다. \n",
    "    2. 이 응답은 직접적인 답변, 생성된 텍스트, 요약된 정보 등 다양한 형태를 취할 수 있습니다."
   ]
  },
  {
   "cell_type": "markdown",
   "id": "64aa8ca5",
   "metadata": {},
   "source": [
    "#### Runnable 프로토콜\n",
    "> PromptTemplate + LLM(stream()) + StrOutputParser\n",
    "1. invoke : 주어진 입력에 대해 체인을 호출하고, 결과를 반환합니다. 이 메소드는 단일 입력에 대해 동기적으로 작동합니다.\n",
    "2. batch : 입력 리스트에 대해 체인을 호출하고, 각 입력에 대한 결과를 리스트로 반환합니다. 이 메소드는 여러 입력에 대해 동기적으로 작동하며, 효율적인 배치 처리를 가능하게 합니다.\n",
    "3. stream : 입력에 대해 체인을 호출하고, 결과의 조각들을 스트리밍 합니다. 이는 대용량 데이터 처리나 실시간 데이터 처리에 유용합니다.\n",
    "4. 비동기 버전 : `ainvoke`, `abatch`, `astream` 등의 메소드는 각각의 동기 버전에 대한 비동기 실행을 지원합니다. 이를 통해 비동기 프로그래밍 패러다임을 사용하여 더 높은 처리 성능과 효율을 달성할 수 있습니다.\n",
    "\n",
    "- **stream: 실시간 출력**\n",
    "    \n",
    "    `chain.stream`() 메서드를 사용하여 주어진 토픽에 대한 데이터 스트림을 생성하고, 이 스트림을 반복하여 각 데이터의 내용(`content`)을 즉시 출력합니다."
   ]
  },
  {
   "cell_type": "markdown",
   "id": "ef3592a7",
   "metadata": {},
   "source": []
  }
 ],
 "metadata": {
  "language_info": {
   "name": "python"
  }
 },
 "nbformat": 4,
 "nbformat_minor": 5
}
