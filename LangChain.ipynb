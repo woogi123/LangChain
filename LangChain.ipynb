{
 "cells": [
  {
   "cell_type": "markdown",
   "id": "a2494a2a",
   "metadata": {},
   "source": [
    "### 사용 툴\n",
    "- python: LangChain, LamaIndex\n",
    "- spring: Spring AI"
   ]
  },
  {
   "cell_type": "markdown",
   "id": "2d1ff5af",
   "metadata": {},
   "source": [
    "\n",
    "### AI 선택가이드\n",
    "- **창의적 글쓰기**: Claude 4 > GPT-4o\n",
    "- **코딩 지원**: GPT-4o > Claude 4 > Llama 3.1\n",
    "- **실시간 정보**: Gemini Ultra > GPT-4o\n",
    "- **비용 효율성**: Llama 3.1 > Claude Sonnet > GPT-4o\n"
   ]
  },
  {
   "cell_type": "markdown",
   "id": "e77a8589",
   "metadata": {},
   "source": [
    "### LangChain 간략 설명\n"
   ]
  }
 ],
 "metadata": {
  "language_info": {
   "name": "python"
  }
 },
 "nbformat": 4,
 "nbformat_minor": 5
}
