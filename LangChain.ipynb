{
 "cells": [
  {
   "cell_type": "markdown",
   "id": "a2494a2a",
   "metadata": {},
   "source": [
    "### 사용 툴\n",
    "- python: LangChain, LamaIndex\n",
    "- spring: Spring AI"
   ]
  },
  {
   "cell_type": "markdown",
   "id": "2d1ff5af",
   "metadata": {},
   "source": [
    "\n",
    "### AI 선택가이드\n",
    "- **창의적 글쓰기**: Claude 4 > GPT-4o\n",
    "- **코딩 지원**: GPT-4o > Claude 4 > Llama 3.1\n",
    "- **실시간 정보**: Gemini Ultra > GPT-4o\n",
    "- **비용 효율성**: Llama 3.1 > Claude Sonnet > GPT-4o\n"
   ]
  },
  {
   "cell_type": "markdown",
   "id": "e77a8589",
   "metadata": {},
   "source": [
    "### LangChain 간략 설명\n"
   ]
  },
  {
   "cell_type": "markdown",
   "id": "fc2fe62b",
   "metadata": {},
   "source": [
    "##### 1. Lang Graph\n",
    "> 복잡한 흐름이 필요한 경우에 사용합니다.\n",
    "- LangGraph는 멀티 Actor 애플리케이션을 그래프 형태로 구축할 수 있게 해주는 LangChain의 고급 라이브러리입니다. 복잡한 AI 워크플로우를 노드(Actor)와 엣지(연결)로 구성된 그래프로 모델링하여, 유연하고 확장 가능한 AI 시스템을 만들 수 있습니다.\n",
    "    - **그래프(Graph) 기반 아키텍처를 도입하여 비선형적인 복잡한 흐름을 유연하게 구성할 수 있도록 지원**\n",
    "    - **멀티에이전트 시스템을 쉽게 설계 가능**\n",
    "    - **비동기 실행 지원으로 성능 최적화 가능**"
   ]
  },
  {
   "cell_type": "markdown",
   "id": "260e7840",
   "metadata": {},
   "source": [
    "##### 2. LangServe\n",
    "> LangServe는 LangChain 기반 애플리케이션을 쉽게 배포(serve)할 수 있도록 설계된 라이브러리\n",
    "- **LangChain 체인을 자동으로 REST API로 변환**\n",
    "    - LangChain 체인을 간단한 코드만으로 API로 변환할 수 있습니다.\n",
    "    - API Endpoint를 자동 생성하여, 별도의 서버 설정 없이 바로 사용 가능.\n",
    "- **FastAPI 기반의 경량화된 API 서버 제공**\n",
    "    - FastAPI를 활용하여 비동기 요청 처리 및 빠른 응답 속도를 제공.\n",
    "    - OpenAPI 문서(Swagger UI)도 자동으로 생성.\n",
    "- **LangChain의 다양한 구성 요소와 연동**\n",
    "    - LLM, Memory, Retriever, Agents, Tools 등을 포함한 LangChain 컴포넌트 지원.\n",
    "    - 기존 LangChain 체인을 쉽게 API 서비스로 변환 가능.\n",
    "- **확장 및 배포 용이**\n",
    "    - **Docker** 컨테이너화하여 배포 가능.\n",
    "    - 서버리스 환경 (AWS Lambda, GCP Cloud Run 등)에도 쉽게 배포 가능.\n",
    "    - Kubernetes 같은 환경에서도 스케일링이 용이함."
   ]
  },
  {
   "cell_type": "markdown",
   "id": "1c06c744",
   "metadata": {},
   "source": [
    "##### 3. Lang Smith\n",
    "> (성능 추적)LangSmith는 LangChain 애플리케이션을 디버깅, 모니터링, 평가, 최적화하는 도구입니다.\n",
    " LangSmith 가 제공하는 기능\n",
    "\n",
    "- **디버깅 도구**\n",
    "    - LangChain 체인의 실행을 시각적으로 확인 가능\n",
    "    - 각 프롬프트 입력과 출력을 분석하여 문제 발생 지점 찾기\n",
    "- **로깅 및 모니터링**\n",
    "    - 체인의 실행 로그를 저장하여 나중에 분석 가능\n",
    "    - 응답 시간, 호출 비용, 오류 비율을 추적\n",
    "- **성능 평가 및 벤치마킹**\n",
    "    - 서로 다른 프롬프트, 모델, 체인을 비교 평가\n",
    "    - 다양한 실험 결과를 저장하고 분석 가능\n",
    "- **테스트 자동화 및 평가 메트릭 제공**\n",
    "    - LLM 응답을 자동으로 평가하는 기능\n",
    "    - A/B 테스트를 수행하여 최적의 설정 찾기\n",
    "- **LangChain과 완벽한 통합**\n",
    "    - LangChain 체인의 실행 과정에서 LangSmith를 쉽게 연동 가능\n",
    "    - 추가 코드 변경 없이 LangChain 애플리케이션에 LangSmith 기능 적용 가능"
   ]
  },
  {
   "cell_type": "markdown",
   "id": "31873efa",
   "metadata": {},
   "source": []
  },
  {
   "cell_type": "code",
   "execution_count": null,
   "id": "1a119823",
   "metadata": {
    "vscode": {
     "languageId": "plaintext"
    }
   },
   "outputs": [],
   "source": []
  },
  {
   "cell_type": "code",
   "execution_count": null,
   "id": "50c7c406",
   "metadata": {
    "vscode": {
     "languageId": "plaintext"
    }
   },
   "outputs": [],
   "source": []
  }
 ],
 "metadata": {
  "language_info": {
   "name": "python"
  }
 },
 "nbformat": 4,
 "nbformat_minor": 5
}
