{
 "cells": [
  {
   "cell_type": "code",
   "execution_count": 1,
   "id": "e2b84546",
   "metadata": {},
   "outputs": [],
   "source": [
    "import os\n",
    "from dotenv import load_dotenv\n",
    "from langchain_core.prompts import ChatPromptTemplate\n",
    "from langchain_openai import ChatOpenAI\n",
    "\n",
    "load_dotenv()\n",
    "OPENAI_API_KEY = os.getenv(\"OPENAI_API_KEY\")\n"
   ]
  },
  {
   "cell_type": "markdown",
   "id": "758f1b28",
   "metadata": {},
   "source": [
    "프롬프트를 통해 질문 input"
   ]
  },
  {
   "cell_type": "code",
   "execution_count": 2,
   "id": "a6a2090b",
   "metadata": {},
   "outputs": [
    {
     "name": "stdout",
     "output_type": "stream",
     "text": [
      "input_variables=['input'] input_types={} partial_variables={} messages=[SystemMessagePromptTemplate(prompt=PromptTemplate(input_variables=[], input_types={}, partial_variables={}, template='당신은 개발자입니다.'), additional_kwargs={}), HumanMessagePromptTemplate(prompt=PromptTemplate(input_variables=['input'], input_types={}, partial_variables={}, template='{input}'), additional_kwargs={})]\n"
     ]
    }
   ],
   "source": [
    "# prompt\n",
    "prompt = ChatPromptTemplate.from_messages(\n",
    "    [ (\"system\", \"당신은 개발자입니다.\") , \n",
    "     (\"user\", \"{input}\") ]\n",
    ")\n",
    "print(prompt)\n",
    "\n",
    "prompt_text = prompt.format(input=\"자바는 무엇인가요? 자세하게 설명해주세요\")"
   ]
  },
  {
   "cell_type": "markdown",
   "id": "fe4fc2a0",
   "metadata": {},
   "source": [
    "결과 받아오기"
   ]
  },
  {
   "cell_type": "code",
   "execution_count": 3,
   "id": "9435812a",
   "metadata": {},
   "outputs": [
    {
     "name": "stdout",
     "output_type": "stream",
     "text": [
      "client=<openai.resources.chat.completions.completions.Completions object at 0x0000024077E4C890> async_client=<openai.resources.chat.completions.completions.AsyncCompletions object at 0x00000240793E91F0> root_client=<openai.OpenAI object at 0x0000024076804620> root_async_client=<openai.AsyncOpenAI object at 0x00000240795C7FB0> model_name='meta-llama/llama-4-scout-17b-16e-instruct' temperature=0.7 model_kwargs={} openai_api_key=SecretStr('**********') openai_api_base='https://api.groq.com/openai/v1'\n"
     ]
    }
   ],
   "source": [
    "# Groq API를 사용하는 ChatOpenAI 인스턴스 생성\n",
    "llm = ChatOpenAI(\n",
    "    api_key=OPENAI_API_KEY,\n",
    "    base_url=\"https://api.groq.com/openai/v1\",  # Groq API 엔드포인트\n",
    "    model=\"meta-llama/llama-4-scout-17b-16e-instruct\",\n",
    "    temperature=0.7\n",
    ")\n",
    "print(llm)"
   ]
  },
  {
   "cell_type": "markdown",
   "id": "1e82e3b3",
   "metadata": {},
   "source": [
    "여기서 답을 출력"
   ]
  },
  {
   "cell_type": "code",
   "execution_count": 4,
   "id": "0303c807",
   "metadata": {},
   "outputs": [
    {
     "name": "stdout",
     "output_type": "stream",
     "text": [
      "응답: 자바는 객체 지향 프로그래밍 언어입니다. 1995년에 썬 마이크로시스템즈(현재 오라클 소유)에서 제임스 고슬링에 의해 개발되었습니다. 자바는 플랫폼 독립적이며, 다양한 운영 체제에서 실행할 수 있습니다.\n",
      "\n",
      "자바의 주요 특징은 다음과 같습니다.\n",
      "\n",
      "1. **객체 지향 프로그래밍**: 자바는 객체 지향 프로그래밍 언어입니다. 이는 프로그램을 객체로 구성하고, 객체 간의 상호 작용을 통해 프로그램을 작성하는 방식입니다.\n",
      "2. **플랫폼 독립성**: 자바는 자바 가상 머신(JVM)을 통해 플랫폼 독립성을 제공합니다. JVM은 자바 코드를 실행하는 가상 머신으로, 다양한 운영 체제에서 실행할 수 있습니다.\n",
      "3. **간결한 문법**: 자바는 간결한 문법을 가지고 있습니다. 자바는 C++과 유사한 문법을 가지고 있지만, 더욱 간단하고 명확합니다.\n",
      "4. **강력한 보안**: 자바는 강력한 보안 기능을 제공합니다. 자바는 메모리 관리, 데이터 유효성 검사, 보안 정책 등을 통해 보안 위협을 방지합니다.\n",
      "5. **대규모 커뮤니티**: 자바는 대규모 커뮤니티를 가지고 있습니다. 자바는 전 세계적으로 널리 사용되며, 많은 개발자들이 자바를 사용하고 있습니다.\n",
      "\n",
      "자바는 다양한 분야에서 사용됩니다. 예를 들어, 웹 개발, 모바일 앱 개발, 데스크톱 애플리케이션 개발, 게임 개발 등에 사용됩니다.\n",
      "\n",
      "자바의 주요 구성 요소는 다음과 같습니다.\n",
      "\n",
      "1. **자바 언어**: 자바 언어는 자바의 핵심입니다. 자바 언어는 객체 지향 프로그래밍을 지원하며, 다양한 기능을 제공합니다.\n",
      "2. **자바 가상 머신(JVM)**: JVM은 자바 코드를 실행하는 가상 머신입니다. JVM은 플랫폼 독립성을 제공합니다.\n",
      "3. **자바 라이브러리**: 자바 라이브러리는 자바의 기능을 확장하는 라이브러리입니다. 자바 라이브러리는 다양한 기능을 제공합니다.\n",
      "\n",
      "자바의 버전은 다음과 같습니다.\n",
      "\n",
      "1. **자바 1.0**: 자바 1.0은 자바의 첫 번째 버전입니다. 1995년에 출시되었습니다.\n",
      "2. **자바 8**: 자바 8은 자바의 최신 버전입니다. 2014년에 출시되었습니다.\n",
      "\n",
      "자바는 널리 사용되는 프로그래밍 언어입니다. 자바는 다양한 분야에서 사용되며, 대규모 커뮤니티를 가지고 있습니다.\n"
     ]
    }
   ],
   "source": [
    "try:\n",
    "    response = llm.invoke(prompt_text)\n",
    "    print(\"응답:\", response.content)\n",
    "except Exception as e:\n",
    "    print(f\"오류 발생: {e}\")"
   ]
  },
  {
   "cell_type": "markdown",
   "id": "173662bf",
   "metadata": {},
   "source": [
    "## LCEL\n",
    "Prompt + LLM Chain으로 연결하기"
   ]
  },
  {
   "cell_type": "markdown",
   "id": "a206e159",
   "metadata": {},
   "source": [
    "1. PromptTemplate 사용해서 model 호출"
   ]
  },
  {
   "cell_type": "code",
   "execution_count": 10,
   "id": "74c87d9a",
   "metadata": {},
   "outputs": [
    {
     "data": {
      "text/plain": [
       "PromptTemplate(input_variables=['input'], input_types={}, partial_variables={}, template='You are an expert in AI Expert. Answer the question. <Question>: {input}에 대해 쉽게 설명해주세요.')"
      ]
     },
     "execution_count": 10,
     "metadata": {},
     "output_type": "execute_result"
    }
   ],
   "source": [
    "from langchain_core.prompts import PromptTemplate\n",
    "from langchain_core.output_parsers import StrOutputParser\n",
    "\n",
    "prompt = PromptTemplate.from_template(\"You are an expert in AI Expert. Answer the question. \"\n",
    "                                \"<Question>: {input}에 대해 쉽게 설명해주세요.\")\n",
    "prompt"
   ]
  },
  {
   "cell_type": "code",
   "execution_count": 11,
   "id": "926a7b14",
   "metadata": {},
   "outputs": [
    {
     "name": "stdout",
     "output_type": "stream",
     "text": [
      "<class 'langchain_core.runnables.base.RunnableSequence'>\n"
     ]
    }
   ],
   "source": [
    "# chain 연결\n",
    "chain = prompt | llm\n",
    "print(type(chain))"
   ]
  },
  {
   "cell_type": "code",
   "execution_count": null,
   "id": "cb65bf36",
   "metadata": {},
   "outputs": [],
   "source": [
    "# chain 연결 (output_parser 추가)\n",
    "output_parser = StrOutputParser()\n",
    "chain2 = prompt | llm | output_parser"
   ]
  },
  {
   "cell_type": "code",
   "execution_count": 15,
   "id": "9ad6eeca",
   "metadata": {},
   "outputs": [
    {
     "name": "stdout",
     "output_type": "stream",
     "text": [
      "<class 'str'>\n",
      "인공지능 모델의 학습 원리는 사람의 뇌가 학습하는 방식과 유사합니다. \n",
      "\n",
      "1. **데이터 수집**: 우선, 인공지능 모델을 학습시키기 위해 관련된 데이터를 수집합니다. \n",
      "\n",
      "2. **데이터 전처리**: 수집된 데이터는 깨끗하고 올바른 형식으로 변환되어야 합니다.\n",
      "\n",
      "3. **모델 설정**: 인공지능 모델의 구조를 설정합니다. 여기에는 신경망의 층 수, 각 층의 뉴런 수, 활성화 함수 등의 결정이 포함됩니다.\n",
      "\n",
      "4. **학습**: 모델에 데이터를 입력하고, 모델이 예측한 결과와 실제 결과 사이의 오류를 계산합니다. 이 오류를 최소화하는 방향으로 모델의 내부 파라미터들(가중치와 편향)을 조정하는 과정을 반복합니다. 이 과정은 역전파 알고리즘을 통해 이루어집니다.\n",
      "\n",
      "5. **평가**: 모델의 성능을 평가합니다. 이는 테스트 데이터를 사용하여 모델의 예측 정확도를 확인하는 것입니다.\n",
      "\n",
      "6. **튜닝**: 모델의 성능이 만족스럽지 않다면, 모델의 구조나 학습 방법, 데이터의 전처리 과정 등을 조정하여 성능을 개선합니다.\n",
      "\n",
      "예를 들어, 자율 주행 자동차의 경우, 수많은 도로 상황 이미지 데이터를 학습하여 자동차가 스스로 상황을 판단하고 운전할 수 있도록 하는 것입니다. \n",
      "\n",
      "이러한 학습 과정을 통해 인공지능 모델은 특정 작업을 수행하는 능력을 키우게 됩니다.\n"
     ]
    }
   ],
   "source": [
    "# Chain 호출\n",
    "try:\n",
    "    result = chain2.invoke({\"input\": \"인공지능 모델의 학습 원리\"})\n",
    "    print(type(result))\n",
    "    print(result)\n",
    "except Exception as e:\n",
    "    print(f\"오류발생 : {e}\")\n"
   ]
  },
  {
   "cell_type": "markdown",
   "id": "f6f8db8d",
   "metadata": {},
   "source": [
    "### Runnable의 stream()함수 호출"
   ]
  },
  {
   "cell_type": "code",
   "execution_count": null,
   "id": "840000f9",
   "metadata": {},
   "outputs": [
    {
     "name": "stdout",
     "output_type": "stream",
     "text": [
      "인공지능 모델의 학습 원리는 사람의 뇌가 학습하는 원리와 유사합니다. 우리의 뇌는 경험을 통해 배우고, 새로운 정보를 기존 지식과 연결하여 기억합니다. 인공지능 모델도 데이터를 통해 배우고, 그 데이터를 분석하여 패턴을 찾고, 미래의 새로운 상황에 대처하는 법을 학습합니다.\n",
      "\n",
      "예를 들어, 사진을 보고 고양이인지 개인지 구분하는 인공지능 모델을 만든다고 가정해 봅시다. 이 모델에게 수많은 고양이와 개의 사진을 보여주고, 이것이 고양이인지 개인지 알려줍니다. 처음에는 모델이 고양이와 개의 구분을 잘 못하지만, 사진을 볼 때마다 조금씩 학습합니다.\n",
      "\n",
      "1. **데이터 수집**: 인공지능 모델을 학습시키기 위해 관련 데이터를 수집합니다. 이 경우, 고양이와 개의 사진들입니다.\n",
      "\n",
      "2. **데이터 분석**: 모델은 수집된 데이터를 분석합니다. 이 분석을 통해 모델은 사진 속에서 고양이와 개의 특징을 찾으려고 합니다. 예를 들어, 고양이는 눈이 크고, 귀가 뾰족하며, 개의 경우 귀가 쳐져 있는 경우가 많다는 등의 특징을 발견할 수 있습니다.\n",
      "\n",
      "3. **모델 업데이트**: 모델은 분석한 특징을 바탕으로 고양이와 개를 구분하는 법을 배웁니다. 처음에는 정확하지 않을 수 있지만, 더 많은 데이터를 학습할수록 점점 더 정확해집니다.\n",
      "\n",
      "4. **예측**: 학습이 완료된 후, 모델은 새로운 사진을 보고 그것이 고양이인지 개인지 예측할 수 있습니다. \n",
      "\n",
      "이러한 학습 과정은 여러 번 반복되며, 모델의 정확도가 높아집니다. 인공지능 모델의 학습 원리는 기본적으로 이러한 반복적인 학습과 개선 과정을 통해 이루어집니다."
     ]
    }
   ],
   "source": [
    "# 스트리밍 출력을 위한 요청\n",
    "answer = chain2.stream({\"input\": \"인공지능 모델의 학습 원리\"})\n",
    "# 스트리밍 출력\n",
    "\n",
    "for token in answer:\n",
    "    # 스트림에서 받은 데이터의 내용을 출력합니다. 줄바꿈 없이 이어서 출력하고, 버퍼를 즉시 비웁니다.\n",
    "    print(token, end=\"\", flush=True)"
   ]
  },
  {
   "cell_type": "code",
   "execution_count": null,
   "id": "faa2046b",
   "metadata": {},
   "outputs": [],
   "source": []
  }
 ],
 "metadata": {
  "kernelspec": {
   "display_name": "langchain-build-py3.12",
   "language": "python",
   "name": "python3"
  },
  "language_info": {
   "codemirror_mode": {
    "name": "ipython",
    "version": 3
   },
   "file_extension": ".py",
   "mimetype": "text/x-python",
   "name": "python",
   "nbconvert_exporter": "python",
   "pygments_lexer": "ipython3",
   "version": "3.12.7"
  }
 },
 "nbformat": 4,
 "nbformat_minor": 5
}
