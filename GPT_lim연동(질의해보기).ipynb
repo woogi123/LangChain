{
 "cells": [
  {
   "cell_type": "code",
   "execution_count": 1,
   "id": "e2b84546",
   "metadata": {},
   "outputs": [],
   "source": [
    "import os\n",
    "from dotenv import load_dotenv\n",
    "from langchain_core.prompts import ChatPromptTemplate\n",
    "from langchain_openai import ChatOpenAI\n",
    "\n",
    "load_dotenv()\n",
    "OPENAI_API_KEY = os.getenv(\"OPENAI_API_KEY\")\n"
   ]
  },
  {
   "cell_type": "markdown",
   "id": "758f1b28",
   "metadata": {},
   "source": [
    "프롬프트를 통해 질문 input"
   ]
  },
  {
   "cell_type": "code",
   "execution_count": 2,
   "id": "a6a2090b",
   "metadata": {},
   "outputs": [
    {
     "name": "stdout",
     "output_type": "stream",
     "text": [
      "input_variables=['input'] input_types={} partial_variables={} messages=[SystemMessagePromptTemplate(prompt=PromptTemplate(input_variables=[], input_types={}, partial_variables={}, template='당신은 개발자입니다.'), additional_kwargs={}), HumanMessagePromptTemplate(prompt=PromptTemplate(input_variables=['input'], input_types={}, partial_variables={}, template='{input}'), additional_kwargs={})]\n"
     ]
    }
   ],
   "source": [
    "# prompt\n",
    "prompt = ChatPromptTemplate.from_messages(\n",
    "    [ (\"system\", \"당신은 개발자입니다.\") , \n",
    "     (\"user\", \"{input}\") ]\n",
    ")\n",
    "print(prompt)\n",
    "\n",
    "prompt_text = prompt.format(input=\"자바는 무엇인가요? 자세하게 설명해주세요\")"
   ]
  },
  {
   "cell_type": "markdown",
   "id": "fe4fc2a0",
   "metadata": {},
   "source": [
    "결과 받아오기"
   ]
  },
  {
   "cell_type": "code",
   "execution_count": 3,
   "id": "9435812a",
   "metadata": {},
   "outputs": [
    {
     "name": "stdout",
     "output_type": "stream",
     "text": [
      "client=<openai.resources.chat.completions.completions.Completions object at 0x000001F974794260> async_client=<openai.resources.chat.completions.completions.AsyncCompletions object at 0x000001F974C2FD40> root_client=<openai.OpenAI object at 0x000001F971E85700> root_async_client=<openai.AsyncOpenAI object at 0x000001F97482E8A0> model_name='gpt-3.5-turbo-0125' temperature=0.7 model_kwargs={} openai_api_key=SecretStr('**********')\n"
     ]
    }
   ],
   "source": [
    "# GPT API를 사용하는 ChatOpenAI 인스턴스 생성\n",
    "llm = ChatOpenAI(\n",
    "    model=\"gpt-3.5-turbo-0125\", #GPT Model\n",
    "    temperature=0.7\n",
    ")\n",
    "print(llm)"
   ]
  },
  {
   "cell_type": "markdown",
   "id": "1e82e3b3",
   "metadata": {},
   "source": [
    "여기서 답을 출력"
   ]
  },
  {
   "cell_type": "code",
   "execution_count": 4,
   "id": "0303c807",
   "metadata": {},
   "outputs": [
    {
     "name": "stdout",
     "output_type": "stream",
     "text": [
      "응답: System: 자바(Java)는 객체지향 프로그래밍 언어로, 1995년 선 미크로시스템즈(현 오라클)에서 발표되었습니다. 자바는 운영체제에 독립적이며 다양한 플랫폼에서 실행될 수 있는 특징을 가지고 있습니다. 또한 자바는 간단하고 쉽게 배울 수 있는 문법과 다양한 라이브러리를 제공하여 개발자들이 빠르게 소프트웨어를 개발할 수 있도록 도와줍니다. 자바는 웹 애플리케이션, 모바일 애플리케이션, 게임 등 다양한 분야에서 사용되고 있으며, 많은 기업들이 자바로 소프트웨어를 개발하고 있습니다.\n"
     ]
    }
   ],
   "source": [
    "try:\n",
    "    response = llm.invoke(prompt_text)\n",
    "    print(\"응답:\", response.content)\n",
    "except Exception as e:\n",
    "    print(f\"오류 발생: {e}\")"
   ]
  },
  {
   "cell_type": "code",
   "execution_count": null,
   "id": "74c87d9a",
   "metadata": {},
   "outputs": [],
   "source": []
  },
  {
   "cell_type": "code",
   "execution_count": null,
   "id": "926a7b14",
   "metadata": {},
   "outputs": [],
   "source": []
  },
  {
   "cell_type": "code",
   "execution_count": null,
   "id": "6691ee21",
   "metadata": {},
   "outputs": [],
   "source": []
  }
 ],
 "metadata": {
  "kernelspec": {
   "display_name": "langchain-build-py3.12",
   "language": "python",
   "name": "python3"
  },
  "language_info": {
   "codemirror_mode": {
    "name": "ipython",
    "version": 3
   },
   "file_extension": ".py",
   "mimetype": "text/x-python",
   "name": "python",
   "nbconvert_exporter": "python",
   "pygments_lexer": "ipython3",
   "version": "3.12.7"
  }
 },
 "nbformat": 4,
 "nbformat_minor": 5
}
