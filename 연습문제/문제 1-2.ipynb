{
 "cells": [
  {
   "cell_type": "code",
   "execution_count": 1,
   "id": "2247c4d4",
   "metadata": {},
   "outputs": [],
   "source": [
    "import os\n",
    "from dotenv import load_dotenv\n",
    "from langchain_core.prompts import ChatPromptTemplate\n",
    "from langchain_openai import ChatOpenAI\n",
    "\n",
    "load_dotenv()\n",
    "OPENAI_API_KEY = os.getenv(\"OPENAI_API_KEY\")"
   ]
  },
  {
   "cell_type": "code",
   "execution_count": 3,
   "id": "a1f5f68b",
   "metadata": {},
   "outputs": [],
   "source": [
    "from langchain_core.prompts import ChatPromptTemplate\n",
    "from langchain_openai import ChatOpenAI\n",
    "from langchain_core.output_parsers import StrOutputParser\n",
    "\n",
    "# Step 1: 장르에 따라 영화 추천\n",
    "prompt1 = ChatPromptTemplate.from_messages([\n",
    "    (\"system\", \"사용자의 요청에 따라 적절한 영화를 추천하세요.\"),\n",
    "    (\"human\", \"{genre} 장르에서 추천할 만한 영화를 한 편 알려주세요.\")\n",
    "])\n",
    "\n",
    "# Step 2: 추천 영화 정보 및 줄거리 요약\n",
    "prompt2 = ChatPromptTemplate.from_messages([\n",
    "    (\"system\", \"입력값에 따른 적절한 영화를 추천하고, 설명하세요\"),\n",
    "    (\"human\", \"{movie} 추천한 영화의 제목을 먼저 알려주시고, 줄을 바꾸어서 영화의 감독, 등장인물을 알려줘. 그리고 줄을 바꿔서 줄거리를 3문장으로 요약해 주세요.\")\n",
    "])\n",
    "\n",
    "# OpenAI 모델 사용\n",
    "llm = ChatOpenAI(\n",
    "    api_key=OPENAI_API_KEY,\n",
    "    base_url=\"https://api.groq.com/openai/v1\",  # Groq API 엔드포인트\n",
    "    model=\"meta-llama/llama-4-scout-17b-16e-instruct\",\n",
    "    temperature=0.7\n",
    ")\n",
    "\n",
    "# 체인 1: 영화 추천 (입력: 장르 → 출력: 영화 제목)\n",
    "chain1 = prompt1 | llm | StrOutputParser()"
   ]
  },
  {
   "cell_type": "code",
   "execution_count": 4,
   "id": "8f3e1f1f",
   "metadata": {},
   "outputs": [
    {
     "name": "stdout",
     "output_type": "stream",
     "text": [
      "영화 제목은 '매트릭스'입니다.\n",
      "\n",
      "'매트릭스'의 감독은 워너브라더스에서 제작한 '매트릭스'의 감독은 '더 워쇼스키' 형제입니다. 등장인물은 키아누 리브스, 로렌스 피쉬번, 캐리-앤 모스 등이 있습니다.\n",
      "\n",
      "'매트릭스'의 줄거리는 다음과 같습니다. 가상 세계에서 살고 있는 주인공 네오는, 현실과 가상 세계의 경계를 깨닫고, 매트릭스로부터 인류를 해방하기 위해 싸웁니다. 네오는 모피어스와 함께 인간 저항군의 리더인 오라클을 만나고, 매트릭스의 진실을 깨닫게 됩니다. 네오는 매트릭스의 악당인 에이전트 스미스와 대결하며, 인류의 운명을 결정짓는 전투에 참여하게 됩니다.\n"
     ]
    }
   ],
   "source": [
    "# 체인 2: 줄거리 요약 (입력: 영화 제목 → 출력: 줄거리)\n",
    "chain2 = (\n",
    "    {\"movie\": chain1}  # chain1의 출력을 movie 변수로 전달\n",
    "    | prompt2\n",
    "    | llm\n",
    "    | StrOutputParser()\n",
    ")\n",
    "\n",
    "# 실행: \"SF\" 장르의 영화 추천 및 줄거리 요약\n",
    "response = chain2.invoke({\"genre\": \"액션\"})\n",
    "print(response)  "
   ]
  },
  {
   "cell_type": "code",
   "execution_count": 5,
   "id": "cd42fc4f",
   "metadata": {},
   "outputs": [
    {
     "name": "stdout",
     "output_type": "stream",
     "text": [
      "추천한 영화의 제목은 '노트북'(The Notebook)입니다.\n",
      "\n",
      "영화의 감독은 닉 카셀 (Nick Cassavetes)이며, 주요 등장인물은 노아 칼훈 (Ryan Gosling), 앨리 해밀턴 (Rachel McAdams), 올드 노아 (James Garner), 올드 앨리 (Gena Rowlands) 등이 있습니다.\n",
      "\n",
      "줄거리를 요약하면 다음과 같습니다.\n",
      "\n",
      "노아와 앨리는 첫눈에 반하여 사랑에 빠지게 됩니다. 하지만 사회적 차이와 시간의 흐름으로 인해 멀어지게 되지만, 노아는 앨리를 잊지 않고 그녀를 찾기 위해 노력합니다. 노아와 앨리의 사랑 이야기는 시대를 초월하여 많은 이들에게 감동을 주고 있습니다.\n"
     ]
    }
   ],
   "source": [
    "# 체인 2: 줄거리 요약 (입력: 영화 제목 → 출력: 줄거리)\n",
    "chain2 = (\n",
    "    {\"movie\": chain1}  # chain1의 출력을 movie 변수로 전달\n",
    "    | prompt2\n",
    "    | llm\n",
    "    | StrOutputParser()\n",
    ")\n",
    "\n",
    "# 실행: \"SF\" 장르의 영화 추천 및 줄거리 요약\n",
    "response = chain2.invoke({\"genre\": \"로맨스\"})\n",
    "print(response)  "
   ]
  },
  {
   "cell_type": "code",
   "execution_count": 6,
   "id": "f4450412",
   "metadata": {},
   "outputs": [
    {
     "name": "stdout",
     "output_type": "stream",
     "text": [
      "*   **영화 제목:** 겟 아웃\n",
      "*   **감독:** 조던 필\n",
      "*   **등장인물:** 다니엘 칼루야, 앨리슨 윌리엄스, 케이시 쿡, 브래드 피트\n",
      "\n",
      "줄거리:\n",
      "\n",
      "*   크리스 워싱턴(다니엘 칼루야)은 백인 여자친구 로즈의 가족을 만나러 가는 중입니다. 크리스는 로즈의 가족이 자신을 이상하게 대한다는 것을 느끼지만, 로즈의 가족은 모두 매우 친절하고 따뜻합니다.\n",
      "*   하지만 크리스는 로즈의 집에서 이상한 일들이 벌어지고 있다는 것을 깨닫습니다. 그는 로즈의 가족이 자신의 몸을 빼앗으려는 음모를 꾸미고 있다는 것을 알게 됩니다. \n",
      "*   크리스는 자신의 몸을 되찾기 위해 필사적으로 노력합니다. 그는 로즈의 가족을 상대로 싸움을 벌이고, 자신의 몸을 되찾아 탈출합니다.\n"
     ]
    }
   ],
   "source": [
    "# 체인 2: 줄거리 요약 (입력: 영화 제목 → 출력: 줄거리)\n",
    "chain2 = (\n",
    "    {\"movie\": chain1}  # chain1의 출력을 movie 변수로 전달\n",
    "    | prompt2\n",
    "    | llm\n",
    "    | StrOutputParser()\n",
    ")\n",
    "\n",
    "# 실행: \"SF\" 장르의 영화 추천 및 줄거리 요약\n",
    "response = chain2.invoke({\"genre\": \"공포\"})\n",
    "print(response)  "
   ]
  },
  {
   "cell_type": "code",
   "execution_count": null,
   "id": "a3b54c6a",
   "metadata": {},
   "outputs": [],
   "source": []
  }
 ],
 "metadata": {
  "kernelspec": {
   "display_name": "langchain-build-py3.12",
   "language": "python",
   "name": "python3"
  },
  "language_info": {
   "codemirror_mode": {
    "name": "ipython",
    "version": 3
   },
   "file_extension": ".py",
   "mimetype": "text/x-python",
   "name": "python",
   "nbconvert_exporter": "python",
   "pygments_lexer": "ipython3",
   "version": "3.12.7"
  }
 },
 "nbformat": 4,
 "nbformat_minor": 5
}
