{
 "cells": [
  {
   "cell_type": "code",
   "execution_count": 1,
   "id": "0647340c",
   "metadata": {},
   "outputs": [
    {
     "name": "stdout",
     "output_type": "stream",
     "text": [
      "gs\n"
     ]
    }
   ],
   "source": [
    "import os\n",
    "from dotenv import load_dotenv\n",
    "from langchain_core.prompts import ChatPromptTemplate\n",
    "from langchain_openai import ChatOpenAI\n",
    "\n",
    "load_dotenv()\n",
    "OPENAI_API_KEY = os.getenv(\"OPENAI_API_KEY\")\n",
    "print(OPENAI_API_KEY[:2])\n"
   ]
  },
  {
   "cell_type": "markdown",
   "id": "d973be3b",
   "metadata": {},
   "source": [
    "## 2-1"
   ]
  },
  {
   "cell_type": "code",
   "execution_count": 5,
   "id": "5e921fb8",
   "metadata": {},
   "outputs": [
    {
     "name": "stdout",
     "output_type": "stream",
     "text": [
      "['비빔밥', '김치', '불고기', '삼계탕', '잡채']\n"
     ]
    }
   ],
   "source": [
    "from langchain_core.output_parsers import CommaSeparatedListOutputParser\n",
    "from langchain_core.prompts import PromptTemplate\n",
    "from langchain_openai import ChatOpenAI\n",
    "import csv\n",
    "\n",
    "# 콤마로 구분된 리스트 출력 파서 초기화\n",
    "output_parser = CommaSeparatedListOutputParser()\n",
    "\n",
    "# 출력 형식 지침 가져오기\n",
    "format_instructions = output_parser.get_format_instructions()\n",
    "\n",
    "# 프롬프트 템플릿 설정\n",
    "prompt = PromptTemplate(\n",
    "    template=\"List five {subject}.\\n{format_instructions}\",\n",
    "    input_variables=[\"subject\"],\n",
    "    partial_variables={\"format_instructions\": format_instructions},\n",
    ")\n",
    "\n",
    "# OpenAI 모델 설정\n",
    "model = ChatOpenAI(\n",
    "    api_key=OPENAI_API_KEY,\n",
    "    base_url=\"https://api.groq.com/openai/v1\",  # Groq API 엔드포인트\n",
    "    model=\"meta-llama/llama-4-scout-17b-16e-instruct\",\n",
    "    temperature=0.7\n",
    ")\n",
    "\n",
    "# 프롬프트, 모델, 출력 파서를 연결하여 체인 생성\n",
    "chain = prompt | model | output_parser\n",
    "\n",
    "\n",
    "input_list = input()\n",
    "result = chain.invoke({f\"subject\":\"한국\" + input_list})\n",
    "\n",
    "# 쉼표로 구분된 리스트 출력\n",
    "print(result)\n"
   ]
  },
  {
   "cell_type": "markdown",
   "id": "88d2d3de",
   "metadata": {},
   "source": [
    "# 2-2"
   ]
  },
  {
   "cell_type": "code",
   "execution_count": 10,
   "id": "b44c334f",
   "metadata": {},
   "outputs": [
    {
     "name": "stdout",
     "output_type": "stream",
     "text": [
      "모델 및 파서 설정 완료\n",
      "테스트할 텍스트 3개 준비 완료\n"
     ]
    }
   ],
   "source": [
    "from langchain_openai import ChatOpenAI\n",
    "from langchain_core.prompts import ChatPromptTemplate\n",
    "from langchain.output_parsers import EnumOutputParser, OutputFixingParser\n",
    "from langchain.schema import OutputParserException\n",
    "\n",
    "from enum import Enum\n",
    "from pprint import pprint\n",
    "\n",
    "# 감정 클래스 정의 (Enum)\n",
    "class Sentiment(str, Enum):\n",
    "    POSITIVE = \"긍정\"\n",
    "    NEGATIVE = \"부정\"\n",
    "    NEUTRAL = \"중립\"\n",
    "\n",
    "# EnumOutputParser 초기화\n",
    "enumParser = EnumOutputParser(enum=Sentiment)\n",
    "format_instructions = enumParser.get_format_instructions()\n",
    "\n",
    "\n",
    "# 프롬프트 템플릿\n",
    "template = \"\"\"\n",
    "당신은 텍스트 감정 분석 전문가입니다.\n",
    "다음 텍스트의 감정을 분석하고, 반드시 아래 세 가지 중 하나의 단어로만 답변하세요.\n",
    "\n",
    "텍스트: \"{text}\"\n",
    "\n",
    "{format_instructions}\n",
    "\n",
    "중요 규칙:\n",
    "1. 반드시 \"긍정\", \"부정\", \"중립\" 중 하나의 단어만 출력하세요\n",
    "2. 다른 설명이나 부가 설명을 추가하지 마세요\n",
    "3. 이모지나 특수문자도 포함하지 마세요\n",
    "4. 오직 하나의 단어만 출력하세요\n",
    "\n",
    "답변:\"\"\"\n",
    "\n",
    "prompt = ChatPromptTemplate.from_template(template)\n",
    "prompt = prompt.partial(format_instructions=format_instructions)   \n",
    "\n",
    "model = ChatOpenAI(\n",
    "    #api_key=OPENAI_API_KEY,\n",
    "    base_url=\"https://api.groq.com/openai/v1\",  # Groq API 엔드포인트\n",
    "    model=\"meta-llama/llama-4-scout-17b-16e-instruct\",\n",
    "    temperature=0  # 일관성을 위해 0으로 설정\n",
    ")\n",
    "\n",
    "# OutputFixingParser로 안정성 향상\n",
    "fixing_parser = OutputFixingParser.from_llm(parser=enumParser, llm=model)\n",
    "\n",
    "print(\"모델 및 파서 설정 완료\")\n",
    "\n",
    "# 테스트 텍스트\n",
    "texts = [\n",
    "    \"이 영화 정말 재미없어요. 시간 낭비였습니다.\",\n",
    "    \"배우들의 연기가 훌륭하고 스토리도 감동적이었어요!\",\n",
    "    \"그냥 무난한 영화였습니다. 나쁘지도 좋지도 않아요.\"\n",
    "]\n",
    "\n",
    "print(f\"테스트할 텍스트 {len(texts)}개 준비 완료\")"
   ]
  },
  {
   "cell_type": "code",
   "execution_count": 11,
   "id": "a12d9129",
   "metadata": {},
   "outputs": [
    {
     "name": "stdout",
     "output_type": "stream",
     "text": [
      "=== 실제 감정 분석 결과 ===\n",
      "\n",
      "0. 텍스트: 이 영화 정말 재미없어요. 시간 낭비였습니다.\n",
      "   감정: 부정 \n",
      "\n",
      "1. 텍스트: 배우들의 연기가 훌륭하고 스토리도 감동적이었어요!\n",
      "   감정: 긍정 \n",
      "\n",
      "2. 텍스트: 그냥 무난한 영화였습니다. 나쁘지도 좋지도 않아요.\n",
      "   감정: 중립 \n",
      "\n",
      "=== 결과 요약 ===\n",
      "성공: 3/3 (100.0%)\n",
      "실패: 0/3\n"
     ]
    }
   ],
   "source": [
    "# 안전한 감정 분석 함수 (에러 처리 포함)\n",
    "def safe_sentiment_analysis(text, use_fixing_parser=True):\n",
    "    \"\"\"안전한 감정 분석 함수 - 에러 처리 포함\"\"\"\n",
    "    try:\n",
    "        # 기본 체인 생성\n",
    "        chain = prompt | model | (fixing_parser if use_fixing_parser else enumParser)\n",
    "        \n",
    "        # 분석 실행\n",
    "        result = chain.invoke({\"text\": text})\n",
    "        return result, None\n",
    "        \n",
    "    except OutputParserException as e:\n",
    "        return None, f\"파싱 오류: {str(e)[:100]}...\"\n",
    "    except Exception as e:\n",
    "        return None, f\"일반 오류: {str(e)[:100]}...\"\n",
    "\n",
    "# 실제 감정 분석 실행 (API 키 필요)\n",
    "def run_sentiment_analysis():\n",
    "    \"\"\"실제 감정 분석 실행\"\"\"\n",
    "    print(\"=== 실제 감정 분석 결과 ===\")\n",
    "    \n",
    "    success_count = 0\n",
    "    total_count = len(texts)\n",
    "    \n",
    "    for i, text in enumerate(texts, 0):\n",
    "        print(f\"\\n{i}. 텍스트: {text}\")\n",
    "        \n",
    "        # OutputFixingParser 사용\n",
    "        result, error = safe_sentiment_analysis(text, use_fixing_parser=True)\n",
    "        \n",
    "        if result:\n",
    "            print(f\"   감정: {result.value} \")\n",
    "            success_count += 1\n",
    "        else:\n",
    "            print(f\"   오류: {error} \")\n",
    "            \n",
    "            # 기본 파서로 재시도\n",
    "            print(\"   기본 파서로 재시도...\")\n",
    "            result2, error2 = safe_sentiment_analysis(text, use_fixing_parser=False)\n",
    "            \n",
    "            if result2:\n",
    "                print(f\"   감정: {result2.value} (기본 파서 성공)\")\n",
    "                success_count += 1\n",
    "            else:\n",
    "                print(f\"   재시도 실패: {error2} \")\n",
    "    \n",
    "    print(f\"\\n=== 결과 요약 ===\")\n",
    "    print(f\"성공: {success_count}/{total_count} ({success_count/total_count*100:.1f}%)\")\n",
    "    print(f\"실패: {total_count-success_count}/{total_count}\")\n",
    "\n",
    "# 실제 분석 실행 (API 키가 있는 경우)\n",
    "try:\n",
    "    run_sentiment_analysis()\n",
    "except Exception as e:\n",
    "    print(\"API 키가 설정되지 않았거나 네트워크 오류:\")\n",
    "    print(\"실제 실행을 위해서는 OpenAI API 키를 설정하세요.\")\n",
    "    print(f\"오류 상세: {e}\")"
   ]
  },
  {
   "cell_type": "markdown",
   "id": "e01343c8",
   "metadata": {},
   "source": [
    "# 2-3"
   ]
  },
  {
   "cell_type": "code",
   "execution_count": 16,
   "id": "dc4abd7b",
   "metadata": {},
   "outputs": [
    {
     "name": "stdout",
     "output_type": "stream",
     "text": [
      "name: 김민수\n",
      "age: 22\n",
      "major: 컴퓨터공학\n",
      "hobbies: 게임하기, 영화보기, 코딩\n",
      "goal: 훌륭한 개발자가 되는 것\n"
     ]
    }
   ],
   "source": [
    "from langchain_openai import ChatOpenAI\n",
    "from langchain_core.prompts import ChatPromptTemplate\n",
    "from langchain.output_parsers import PydanticOutputParser\n",
    "\n",
    "from pydantic import BaseModel, Field\n",
    "from typing import List\n",
    "\n",
    "# 출력 구조를 정의하는 Pydantic 모델\n",
    "class Student(BaseModel):\n",
    "    name: str = Field(description=\"이름\")\n",
    "    age: int = Field(description=\"나이\")\n",
    "    major: str = Field(description=\"학과\")\n",
    "    hobbies: List[str] = Field(description=\"취미\")\n",
    "    goal: str = Field(description=\"목표\")\n",
    "    \n",
    "# Pydantic 출력 파서 초기화\n",
    "parser = PydanticOutputParser(pydantic_object=Student)\n",
    "\n",
    "# 프롬프트 템플릿 설정\n",
    "template = \"\"\"\n",
    "다음 사용자 요청을 적절히 파싱해주세요.\n",
    "요청: {query}\n",
    "\n",
    "{format_instructions}\n",
    "\"\"\"\n",
    "\n",
    "prompt = ChatPromptTemplate.from_template(template)\n",
    "\n",
    "# 파서의 지시사항을 프롬프트에 주입\n",
    "prompt = prompt.partial(\n",
    "    format_instructions=parser.get_format_instructions()\n",
    ")\n",
    "\n",
    "# ChatOpenAI 모델 초기화\n",
    "#model = ChatOpenAI(temperature=0.7, model=\"gpt-3.5-turbo\")\n",
    "model = ChatOpenAI(\n",
    "    #api_key=OPENAI_API_KEY,\n",
    "    base_url=\"https://api.groq.com/openai/v1\",  # Groq API 엔드포인트\n",
    "    model=\"meta-llama/llama-4-scout-17b-16e-instruct\",  # Spring AI와 동일한 모델\n",
    "    temperature=0.7\n",
    ")\n",
    "\n",
    "# 체인 구성 및 실행\n",
    "query =  \"안녕하세요! 저는 김민수이고 22살입니다. 컴퓨터공학을 전공하고 있어요. 취미로는 게임하기, 영화보기, 코딩을 좋아합니다. 앞으로 훌륭한 개발자가 되는 것이 목표입니다.\"\n",
    "chain = prompt | model | parser\n",
    "output = chain.invoke({\"query\": query})\n",
    "\n",
    "# 결과 출력\n",
    "print(f\"name: {output.name}\")\n",
    "print(f\"age: {output.age}\")\n",
    "print(f\"major: {output.major}\")\n",
    "print(f\"hobbies: {', '.join(output.hobbies)}\")\n",
    "print(f\"goal: {output.goal}\")\n",
    "    "
   ]
  },
  {
   "cell_type": "markdown",
   "id": "ff389b07",
   "metadata": {},
   "source": [
    "# 2-4"
   ]
  },
  {
   "cell_type": "code",
   "execution_count": 21,
   "id": "3b35dded",
   "metadata": {},
   "outputs": [
    {
     "name": "stdout",
     "output_type": "stream",
     "text": [
      "출력 형식 지시사항:\n",
      "The output should be a markdown code snippet formatted in the following schema, including the leading and trailing \"```json\" and \"```\":\n",
      "\n",
      "```json\n",
      "{\n",
      "\t\"destination\": string  // 놀러 간 지역\n",
      "\t\"duration\": string  // 일정 계획\n",
      "\t\"budget\": string  // 책정한 예산\n",
      "\t\"rating\": string  // 평점\n",
      "\t\"activities\": string  // 활동한 활동 목록\n",
      "}\n",
      "```\n"
     ]
    }
   ],
   "source": [
    "from langchain_openai import ChatOpenAI\n",
    "from langchain_core.prompts import ChatPromptTemplate\n",
    "from langchain.output_parsers import StructuredOutputParser, ResponseSchema\n",
    "\n",
    "from pprint import pprint\n",
    "\n",
    "# 출력 구조 정의 (평점, 장점, 단점, 요약)\n",
    "response_schemas = [\n",
    "    ResponseSchema(name=\"destination\", description=\"놀러 간 지역\"),\n",
    "    ResponseSchema(name=\"duration\", description=\"일정 계획\"),\n",
    "    ResponseSchema(name=\"budget\", description=\"책정한 예산\"),\n",
    "    ResponseSchema(name=\"rating\", description=\"평점\"),\n",
    "    ResponseSchema(name=\"activities\", description=\"활동한 활동 목록\")\n",
    "]\n",
    "\n",
    "# 파서 초기화\n",
    "parser = StructuredOutputParser.from_response_schemas(response_schemas)\n",
    "format_instructions = parser.get_format_instructions()\n",
    "\n",
    "print(\"출력 형식 지시사항:\")\n",
    "print(format_instructions)\n"
   ]
  },
  {
   "cell_type": "code",
   "execution_count": 22,
   "id": "597e989d",
   "metadata": {},
   "outputs": [
    {
     "name": "stdout",
     "output_type": "stream",
     "text": [
      "===== 분석 결과 =====\n",
      "{'activities': '해운대 바다 구경, 자갈치시장에서 회 먹기, 감천문화마을 구경',\n",
      " 'budget': '30만원',\n",
      " 'destination': '부산',\n",
      " 'duration': '2박 3일',\n",
      " 'rating': '4점'}\n"
     ]
    }
   ],
   "source": [
    "\n",
    "# 프롬프트 템플릿\n",
    "template = \"\"\"\n",
    "다음 제품 리뷰를 분석하세요. 리뷰 내용: {review}\n",
    "\n",
    "{format_instructions}\n",
    "\"\"\"\n",
    "\n",
    "prompt = ChatPromptTemplate.from_template(template)\n",
    "prompt = prompt.partial(format_instructions=format_instructions)\n",
    "\n",
    "# 모델 초기화 (temperature=0.5로 설정해 일관성 있는 출력)\n",
    "#model = ChatOpenAI(temperature=0.7, model=\"gpt-3.5-turbo\")\n",
    "model = ChatOpenAI(\n",
    "    #api_key=OPENAI_API_KEY,\n",
    "    base_url=\"https://api.groq.com/openai/v1\",  # Groq API 엔드포인트\n",
    "    model=\"meta-llama/llama-4-scout-17b-16e-instruct\",  # Spring AI와 동일한 모델\n",
    "    temperature=0.7\n",
    ")\n",
    "\n",
    "# 테스트 리뷰 데이터\n",
    "review = \"지난 주에 부산으로 2박 3일 여행을 다녀왔어요. 총 30만원 정도 썼는데 해운대에서 바다구경하고, 자갈치시장에서 회 먹고, 감천문화마을도 구경했어요. 정말 만족스러운 여행이었습니다. 5점 만점에 4점 정도 줄 수 있을 것 같아요.\"\n",
    "\n",
    "# 체인 실행\n",
    "chain = prompt | model | parser\n",
    "\n",
    "output = chain.invoke({\"review\": review})\n",
    "\n",
    "# 결과 출력 (Pretty Print)\n",
    "print(\"===== 분석 결과 =====\")\n",
    "pprint(output)"
   ]
  },
  {
   "cell_type": "code",
   "execution_count": null,
   "id": "15d5f9b4",
   "metadata": {},
   "outputs": [],
   "source": []
  }
 ],
 "metadata": {
  "kernelspec": {
   "display_name": "langchain-build-py3.12",
   "language": "python",
   "name": "python3"
  },
  "language_info": {
   "codemirror_mode": {
    "name": "ipython",
    "version": 3
   },
   "file_extension": ".py",
   "mimetype": "text/x-python",
   "name": "python",
   "nbconvert_exporter": "python",
   "pygments_lexer": "ipython3",
   "version": "3.12.7"
  }
 },
 "nbformat": 4,
 "nbformat_minor": 5
}
