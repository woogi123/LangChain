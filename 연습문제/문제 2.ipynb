{
 "cells": [
  {
   "cell_type": "markdown",
   "id": "d973be3b",
   "metadata": {},
   "source": [
    "## 2-1"
   ]
  },
  {
   "cell_type": "markdown",
   "id": "01dff9a7",
   "metadata": {},
   "source": []
  }
 ],
 "metadata": {
  "language_info": {
   "name": "python"
  }
 },
 "nbformat": 4,
 "nbformat_minor": 5
}
